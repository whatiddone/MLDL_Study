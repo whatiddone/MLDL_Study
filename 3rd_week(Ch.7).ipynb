{
  "nbformat": 4,
  "nbformat_minor": 0,
  "metadata": {
    "colab": {
      "provenance": [],
      "collapsed_sections": [
        "EDHAtzq2qVWt",
        "ZmzDyMy33LTN"
      ],
      "toc_visible": true,
      "gpuType": "T4",
      "authorship_tag": "ABX9TyNT8rmGV12V7SsXZUi8EhK6",
      "include_colab_link": true
    },
    "kernelspec": {
      "name": "python3",
      "display_name": "Python 3"
    },
    "language_info": {
      "name": "python"
    },
    "accelerator": "GPU"
  },
  "cells": [
    {
      "cell_type": "markdown",
      "metadata": {
        "id": "view-in-github",
        "colab_type": "text"
      },
      "source": [
        "<a href=\"https://colab.research.google.com/github/whatiddone/MLDL_Study/blob/main/3rd_week(Ch.7).ipynb\" target=\"_parent\"><img src=\"https://colab.research.google.com/assets/colab-badge.svg\" alt=\"Open In Colab\"/></a>"
      ]
    },
    {
      "cell_type": "markdown",
      "source": [
        "# 7-pre. 📌 신경망을 이해하기 위한 학습 순서\n",
        "\n",
        "## 1️⃣ 경사 하강법 이해하기\n",
        "- 경사 하강법이란?\n",
        "→ 손실 함수(loss function)를 최소화하기 위해 가중치를 반복적으로 조정하는 최적화 알고리즘\n",
        "- 학습률(learning rate)의 역할\n",
        "→ 너무 크면 발산, 너무 작으면 학습이 느림\n",
        "- 배치(batch) 방식에 따른 차이\n",
        "→ 배치 경사 하강법(Batch GD), 확률적 경사 하강법(SGD), 미니배치 경사 하강법(Mini-batch GD) 비교\n",
        "\n",
        "## 2️⃣ 퍼셉트론(Perceptron) 이해하기\n",
        "- 단층 퍼셉트론\n",
        "→ 가장 간단한 신경망 구조 (입력층 + 출력층)\n",
        "- 퍼셉트론의 학습\n",
        "→ 가중치를 경사 하강법으로 업데이트\n",
        "- 퍼셉트론 한계\n",
        "→ XOR 문제 해결 불가능 → 다층 퍼셉트론(MLP) 필요\n",
        "\n",
        "## 3️⃣ 다층 신경망(Multi-layer Perceptron, MLP) 이해하기\n",
        "- 신경망에서 가중치(W)와 바이어스(B)의 역할\n",
        "- 활성화 함수(Activation Function)\n",
        "→ ReLU, Sigmoid, Tanh 등의 필요성\n",
        "- 순전파(Forward Propagation)와 역전파(Backpropagation) → 역전파는 경사 하강법을 기반으로 작동!\n",
        "\n",
        "## 4️⃣ 역전파(Backpropagation)와 경사 하강법의 관계\n",
        "- 순전파(Forward Propagation) → 입력값이 신경망을 통과하여 예측값(출력) 생성\n",
        "- 손실(loss) 계산 → 예측값과 실제값의 차이 측정\n",
        "- 역전파(Backpropagation) → 손실 값을 미분하여 각 가중치가 얼마나 영향을 미치는지 계산\n",
        "- 경사 하강법 적용 → 역전파로 구한 기울기를 이용해 가중치 업데이트\n",
        "## 📌 결론: 신경망이 제대로 작동하려면, 역전파를 통해 경사 하강법으로 가중치를 조정해야 함!\n",
        "\n",
        "### XOR 연산이란?\n",
        "XOR은 두 개의 입력값이 **다를 때 1(True), 같을 때 0(False)**을 출력하는 논리 연산\n",
        "\n",
        "- XOR 데이터 시각화\n",
        "  - XOR 데이터의 분포\n",
        "```scss\n",
        "(0, 0) → 0 (🔴)        (0, 1) → 1 (🟢)\n",
        "(1, 0) → 1 (🟢)        (1, 1) → 0 (🔴)\n",
        "```\n",
        "🚫 단순한 하나의 직선으로 분리할 수 없음!\n",
        "  - 그러나 AND와 OR의 경우 하나의 직선으로 분리 가능\n",
        "  ```scss\n",
        "  # AND\n",
        "  (0, 0) → 0 (🔴)        (0, 1) → 0 (🔴)\n",
        "  (1, 0) → 0 (🔴)        (1, 1) → 1 (🟢)\n",
        "  ```\n",
        "  ```scss\n",
        "  # OR\n",
        "  (0, 0) → 0 (🔴)        (0, 1) → 1 (🟢)\n",
        "  (1, 0) → 1 (🟢)        (1, 1) → 1 (🟢)\n",
        "\n",
        "  ```\n"
      ],
      "metadata": {
        "id": "AkxJieUmYWE9"
      }
    },
    {
      "cell_type": "markdown",
      "source": [
        "# 7-1. 인공신경망"
      ],
      "metadata": {
        "id": "FC3SeXGnHtbg"
      }
    },
    {
      "cell_type": "code",
      "execution_count": null,
      "metadata": {
        "id": "4nvDQb0cHiPS"
      },
      "outputs": [],
      "source": [
        "# 실행마다 동일한 결과를 얻기 위해 케라스에 랜덤 시드를 사용하고 텐서플로 연산을 결정적으로 만듭니다.\n",
        "import tensorflow as tf\n",
        "\n",
        "tf.keras.utils.set_random_seed(42)\n",
        "tf.config.experimental.enable_op_determinism()"
      ]
    },
    {
      "cell_type": "markdown",
      "source": [
        "> ## 키워드\n",
        "- 밀집층: 가장 간단한 인공 신경망 층, 모든 입력 노드와 출력 노드가 완전히 연결(fully connected) 되어 있다.\n",
        "- 원-핫 인코딩: 하나의 차원에서 단 하나의 요소만 1, 나머지는 모두 0. **범주형 변수 처리**에 유용.\n"
      ],
      "metadata": {
        "id": "gE_6pdhuulxF"
      }
    },
    {
      "cell_type": "markdown",
      "source": [
        "> ## 핵심 패키지와 함수\n",
        "### TensorFlow\n",
        "- Dense는 신경망에서 가장 기본 층이 밀집층을 만드는 클래스.\n",
        "  - 첫 번째 매개변수에는 뉴런의 개수를 지정\n",
        "  - activation 매개변수에는 사용할 활성화 함수(softmax, sigmoid) 지정.\n",
        "  - 케라스의 Sequential 클래스에 맨 처음 추가되는 층에는 input_shape 매개변수로 입력 크기 지정 필요\n",
        "- Sequential은 케라스에서 신경망 모델을 만드는 클래스\n",
        "  - 추가할 층이 1개 이상일 경우 파이썬 리스트로 전달\n",
        "- compile()은 모델 객체를 만든 후 훈련하기 전에 사용할 손실 함수와 측정 지표 등을 지정하는 메서드\n",
        "  - loss 매개변수에 손실 함수를 지정합니다. 이진 분류일 경우 'binary_crossentropy', 다중 분류일 경우 'categorical_crossentropy'를 지정합니다. 클래스 레이블이 정수일 경우 'sparse_categorical_crossentropy'로 지정합니다. 회귀 모델일 경우 'mean_square_error'등으로 지정할 수도 있습니다.\n",
        "  - metrics 매개변수에 훈련 과정에서 측정하고 싶은 지표를 지정할 수 있습니다. 측정 지표가 1개 이상인 경우 리스트로 전달합니다.\n",
        "- fit()은 모델을 훈련하는 메서드입니다.\n",
        "- evaluate()는 모델 성능을 평가하는 메서드입니다.\n",
        "  - compile() 메서드에서 loss 매개변수에 지정한 손실 함수의 값과 metrics 매개변수에서 지정한 측정 지표를 출력합니다."
      ],
      "metadata": {
        "id": "zE_V52k6tGJj"
      }
    },
    {
      "cell_type": "markdown",
      "source": [
        "## 패션 MNIST"
      ],
      "metadata": {
        "id": "mTG3ab8wIhJm"
      }
    },
    {
      "cell_type": "code",
      "source": [
        "from tensorflow import keras\n",
        "\n",
        "(train_input, train_target), (test_input, test_target) = keras.datasets.fashion_mnist.load_data()"
      ],
      "metadata": {
        "colab": {
          "base_uri": "https://localhost:8080/"
        },
        "id": "XhKASf7-IihH",
        "outputId": "72b31e64-64fe-4d5f-d344-dc626f9911fc"
      },
      "execution_count": null,
      "outputs": [
        {
          "output_type": "stream",
          "name": "stdout",
          "text": [
            "Downloading data from https://storage.googleapis.com/tensorflow/tf-keras-datasets/train-labels-idx1-ubyte.gz\n",
            "\u001b[1m29515/29515\u001b[0m \u001b[32m━━━━━━━━━━━━━━━━━━━━\u001b[0m\u001b[37m\u001b[0m \u001b[1m0s\u001b[0m 0us/step\n",
            "Downloading data from https://storage.googleapis.com/tensorflow/tf-keras-datasets/train-images-idx3-ubyte.gz\n",
            "\u001b[1m26421880/26421880\u001b[0m \u001b[32m━━━━━━━━━━━━━━━━━━━━\u001b[0m\u001b[37m\u001b[0m \u001b[1m1s\u001b[0m 0us/step\n",
            "Downloading data from https://storage.googleapis.com/tensorflow/tf-keras-datasets/t10k-labels-idx1-ubyte.gz\n",
            "\u001b[1m5148/5148\u001b[0m \u001b[32m━━━━━━━━━━━━━━━━━━━━\u001b[0m\u001b[37m\u001b[0m \u001b[1m0s\u001b[0m 0us/step\n",
            "Downloading data from https://storage.googleapis.com/tensorflow/tf-keras-datasets/t10k-images-idx3-ubyte.gz\n",
            "\u001b[1m4422102/4422102\u001b[0m \u001b[32m━━━━━━━━━━━━━━━━━━━━\u001b[0m\u001b[37m\u001b[0m \u001b[1m1s\u001b[0m 0us/step\n"
          ]
        }
      ]
    },
    {
      "cell_type": "code",
      "source": [
        "print(train_input.shape, train_target.shape)"
      ],
      "metadata": {
        "colab": {
          "base_uri": "https://localhost:8080/"
        },
        "id": "cC0pbW0hInbp",
        "outputId": "1fc0f454-798a-4966-dba4-18c4e364cdb8"
      },
      "execution_count": null,
      "outputs": [
        {
          "output_type": "stream",
          "name": "stdout",
          "text": [
            "(60000, 28, 28) (60000,)\n"
          ]
        }
      ]
    },
    {
      "cell_type": "code",
      "source": [
        "print(test_input.shape, test_target.shape)"
      ],
      "metadata": {
        "colab": {
          "base_uri": "https://localhost:8080/"
        },
        "id": "XYWzrZNZJgps",
        "outputId": "58015b22-66a8-4c59-c48a-653d7ce20873"
      },
      "execution_count": null,
      "outputs": [
        {
          "output_type": "stream",
          "name": "stdout",
          "text": [
            "(10000, 28, 28) (10000,)\n"
          ]
        }
      ]
    },
    {
      "cell_type": "code",
      "source": [
        "# 이미지 출력하기\n",
        "import matplotlib.pyplot as plt\n",
        "fig, axs = plt.subplots(1, 10, figsize=(10, 10))\n",
        "for i in range(10):\n",
        "  axs[i].imshow(train_input[i], cmap='gray_r')\n",
        "  axs[i].axis('off')\n",
        "plt.show()"
      ],
      "metadata": {
        "colab": {
          "base_uri": "https://localhost:8080/",
          "height": 102
        },
        "id": "EPzEWHTSJgcI",
        "outputId": "0d275b3d-3b22-4155-baab-3140b8879db9"
      },
      "execution_count": null,
      "outputs": [
        {
          "output_type": "display_data",
          "data": {
            "text/plain": [
              "<Figure size 1000x1000 with 10 Axes>"
            ],
            "image/png": "[encoded data removed]"
          },
          "metadata": {}
        }
      ]
    },
    {
      "cell_type": "code",
      "source": [
        "# 이미지의 타깃값 확인하기\n",
        "print([train_target[i] for i in range(10)])"
      ],
      "metadata": {
        "colab": {
          "base_uri": "https://localhost:8080/"
        },
        "id": "AcuKz6ppRQE4",
        "outputId": "661855f1-f5e6-40ee-c520-3bb9d5865d43"
      },
      "execution_count": null,
      "outputs": [
        {
          "output_type": "stream",
          "name": "stdout",
          "text": [
            "[9, 0, 0, 3, 0, 2, 7, 2, 5, 5]\n"
          ]
        }
      ]
    },
    {
      "cell_type": "code",
      "source": [
        "# 각 레이블마다 몇 개의 샘플이 있는지 확인하기\n",
        "import numpy as np\n",
        "print(np.unique(train_target, return_counts=True))"
      ],
      "metadata": {
        "colab": {
          "base_uri": "https://localhost:8080/"
        },
        "id": "M6K4J0n0Two0",
        "outputId": "1a8dbc94-af96-47f7-d312-8d49089a2c77"
      },
      "execution_count": null,
      "outputs": [
        {
          "output_type": "stream",
          "name": "stdout",
          "text": [
            "(array([0, 1, 2, 3, 4, 5, 6, 7, 8, 9], dtype=uint8), array([6000, 6000, 6000, 6000, 6000, 6000, 6000, 6000, 6000, 6000]))\n"
          ]
        }
      ]
    },
    {
      "cell_type": "markdown",
      "source": [
        "## 로지스틱 회귀로 패션 아이템 분류하기"
      ],
      "metadata": {
        "id": "iJ0iqeu5UGFp"
      }
    },
    {
      "cell_type": "code",
      "source": [
        "# 2차원 배열인 각 샘플을 1차원 배열로 펼치기 (SGDClassifier는 2차원 입력을 다루지 못함)\n",
        "train_scaled = train_input / 255.0\n",
        "train_scaled = train_scaled.reshape(-1, 28*28)"
      ],
      "metadata": {
        "id": "d5X-Yt_6T65m"
      },
      "execution_count": null,
      "outputs": []
    },
    {
      "cell_type": "code",
      "source": [
        "print(train_scaled.shape)"
      ],
      "metadata": {
        "colab": {
          "base_uri": "https://localhost:8080/"
        },
        "id": "mRYTQzSTUKCA",
        "outputId": "2e56aa7b-ccd0-45dc-ec48-11124eaf0fc4"
      },
      "execution_count": null,
      "outputs": [
        {
          "output_type": "stream",
          "name": "stdout",
          "text": [
            "(60000, 784)\n"
          ]
        }
      ]
    },
    {
      "cell_type": "code",
      "source": [
        "from sklearn.model_selection import cross_validate\n",
        "from sklearn.linear_model import SGDClassifier\n",
        "\n",
        "sc = SGDClassifier(loss='log_loss', max_iter=5, random_state=42)\n",
        "\n",
        "scores = cross_validate(sc, train_scaled, train_target, n_jobs=-1)\n",
        "print(np.mean(scores['test_score']))"
      ],
      "metadata": {
        "colab": {
          "base_uri": "https://localhost:8080/"
        },
        "id": "70MMRKJzVAgM",
        "outputId": "3f8dc0ab-b948-4b3f-9936-f6daac8db618"
      },
      "execution_count": null,
      "outputs": [
        {
          "output_type": "stream",
          "name": "stdout",
          "text": [
            "0.8194166666666666\n"
          ]
        }
      ]
    },
    {
      "cell_type": "markdown",
      "source": [
        "- 각 픽셀마다 가중치 넣어 계산하는 방법. 레이블마다 가중치가 다릅니다."
      ],
      "metadata": {
        "id": "6QKr6OqFXEvG"
      }
    },
    {
      "cell_type": "markdown",
      "source": [
        "## 인공 신경망"
      ],
      "metadata": {
        "id": "xAOK1CgCXRLf"
      }
    },
    {
      "cell_type": "markdown",
      "source": [
        "### 텐서플로와 케라스"
      ],
      "metadata": {
        "id": "w6_R4cC4lbd8"
      }
    },
    {
      "cell_type": "code",
      "source": [
        "import tensorflow as tf"
      ],
      "metadata": {
        "id": "GX7IfGgklbJ2"
      },
      "execution_count": null,
      "outputs": []
    },
    {
      "cell_type": "code",
      "source": [
        "from tensorflow import keras"
      ],
      "metadata": {
        "id": "SDKl8AnvlfOK"
      },
      "execution_count": null,
      "outputs": []
    },
    {
      "cell_type": "markdown",
      "source": [
        "## 인공 신경망으로 모델 만들기"
      ],
      "metadata": {
        "id": "5_eGgpyxlgPu"
      }
    },
    {
      "cell_type": "code",
      "source": [
        "from sklearn.model_selection import train_test_split\n",
        "\n",
        "train_scaled, val_scaled, train_target, val_target = train_test_split(\n",
        "    train_scaled, train_target, test_size=0.2, random_state=42)"
      ],
      "metadata": {
        "id": "xJu7EYl9lkw_"
      },
      "execution_count": null,
      "outputs": []
    },
    {
      "cell_type": "code",
      "source": [
        "print(train_scaled.shape, train_target.shape)"
      ],
      "metadata": {
        "colab": {
          "base_uri": "https://localhost:8080/"
        },
        "id": "2jb5tpz_lmBW",
        "outputId": "9711b2cb-a2c8-4aa5-b29e-e5cb33532e4f"
      },
      "execution_count": null,
      "outputs": [
        {
          "output_type": "stream",
          "name": "stdout",
          "text": [
            "(48000, 784) (48000,)\n"
          ]
        }
      ]
    },
    {
      "cell_type": "code",
      "source": [
        "print(val_scaled.shape, val_target.shape)"
      ],
      "metadata": {
        "colab": {
          "base_uri": "https://localhost:8080/"
        },
        "id": "Et-IYvkflnPL",
        "outputId": "5613dda4-140c-4415-9588-88bd824ecceb"
      },
      "execution_count": null,
      "outputs": [
        {
          "output_type": "stream",
          "name": "stdout",
          "text": [
            "(12000, 784) (12000,)\n"
          ]
        }
      ]
    },
    {
      "cell_type": "code",
      "source": [
        "dense = keras.layers.Dense(10, activation='softmax', input_shape=(784,))"
      ],
      "metadata": {
        "colab": {
          "base_uri": "https://localhost:8080/"
        },
        "id": "9Ggpmyc6lon-",
        "outputId": "fda2822e-4e7f-4747-ce41-24a74905b5ce"
      },
      "execution_count": null,
      "outputs": [
        {
          "output_type": "stream",
          "name": "stderr",
          "text": [
            "/usr/local/lib/python3.11/dist-packages/keras/src/layers/core/dense.py:87: UserWarning: Do not pass an `input_shape`/`input_dim` argument to a layer. When using Sequential models, prefer using an `Input(shape)` object as the first layer in the model instead.\n",
            "  super().__init__(activity_regularizer=activity_regularizer, **kwargs)\n"
          ]
        }
      ]
    },
    {
      "cell_type": "code",
      "source": [
        "model = keras.Sequential([dense])"
      ],
      "metadata": {
        "id": "v-I8SVQSlp1q"
      },
      "execution_count": null,
      "outputs": []
    },
    {
      "cell_type": "markdown",
      "source": [
        "## 인공 신경망으로 패션 아이템 분류하기"
      ],
      "metadata": {
        "id": "5CZH5JXZltqj"
      }
    },
    {
      "cell_type": "code",
      "source": [
        "model.compile(loss='sparse_categorical_crossentropy', metrics=['accuracy'])"
      ],
      "metadata": {
        "id": "KLICOSMclyAB"
      },
      "execution_count": null,
      "outputs": []
    },
    {
      "cell_type": "code",
      "source": [
        "print(train_target[:10])"
      ],
      "metadata": {
        "colab": {
          "base_uri": "https://localhost:8080/"
        },
        "id": "KICxaloaly8R",
        "outputId": "fb18d5fe-8a6a-4a05-e96d-2667fc52636e"
      },
      "execution_count": null,
      "outputs": [
        {
          "output_type": "stream",
          "name": "stdout",
          "text": [
            "[7 3 5 8 6 9 3 3 9 9]\n"
          ]
        }
      ]
    },
    {
      "cell_type": "code",
      "source": [
        "model.fit(train_scaled, train_target, epochs=5)"
      ],
      "metadata": {
        "colab": {
          "base_uri": "https://localhost:8080/"
        },
        "id": "TEhzNlvcl0Oa",
        "outputId": "e3ea9d2d-c683-4b4f-b5bf-83c4d8a86421"
      },
      "execution_count": null,
      "outputs": [
        {
          "output_type": "stream",
          "name": "stdout",
          "text": [
            "Epoch 1/5\n",
            "\u001b[1m1500/1500\u001b[0m \u001b[32m━━━━━━━━━━━━━━━━━━━━\u001b[0m\u001b[37m\u001b[0m \u001b[1m5s\u001b[0m 3ms/step - accuracy: 0.7370 - loss: 0.7853\n",
            "Epoch 2/5\n",
            "\u001b[1m1500/1500\u001b[0m \u001b[32m━━━━━━━━━━━━━━━━━━━━\u001b[0m\u001b[37m\u001b[0m \u001b[1m4s\u001b[0m 3ms/step - accuracy: 0.8346 - loss: 0.4845\n",
            "Epoch 3/5\n",
            "\u001b[1m1500/1500\u001b[0m \u001b[32m━━━━━━━━━━━━━━━━━━━━\u001b[0m\u001b[37m\u001b[0m \u001b[1m5s\u001b[0m 3ms/step - accuracy: 0.8452 - loss: 0.4564\n",
            "Epoch 4/5\n",
            "\u001b[1m1500/1500\u001b[0m \u001b[32m━━━━━━━━━━━━━━━━━━━━\u001b[0m\u001b[37m\u001b[0m \u001b[1m4s\u001b[0m 3ms/step - accuracy: 0.8504 - loss: 0.4425\n",
            "Epoch 5/5\n",
            "\u001b[1m1500/1500\u001b[0m \u001b[32m━━━━━━━━━━━━━━━━━━━━\u001b[0m\u001b[37m\u001b[0m \u001b[1m6s\u001b[0m 3ms/step - accuracy: 0.8537 - loss: 0.4337\n"
          ]
        },
        {
          "output_type": "execute_result",
          "data": {
            "text/plain": [
              "<keras.src.callbacks.history.History at 0x7ccb6134fc50>"
            ]
          },
          "metadata": {},
          "execution_count": 23
        }
      ]
    },
    {
      "cell_type": "code",
      "source": [
        "model.evaluate(val_scaled, val_target)"
      ],
      "metadata": {
        "colab": {
          "base_uri": "https://localhost:8080/"
        },
        "id": "zr1W6Qgjl1qR",
        "outputId": "0ebb7e96-95c9-4987-8bc9-75db7f0d5f74"
      },
      "execution_count": null,
      "outputs": [
        {
          "output_type": "stream",
          "name": "stdout",
          "text": [
            "\u001b[1m375/375\u001b[0m \u001b[32m━━━━━━━━━━━━━━━━━━━━\u001b[0m\u001b[37m\u001b[0m \u001b[1m1s\u001b[0m 2ms/step - accuracy: 0.8462 - loss: 0.4364\n"
          ]
        },
        {
          "output_type": "execute_result",
          "data": {
            "text/plain": [
              "[0.4444445073604584, 0.8458333611488342]"
            ]
          },
          "metadata": {},
          "execution_count": 24
        }
      ]
    },
    {
      "cell_type": "markdown",
      "source": [
        "## 층이 많으면 생길 수 있는 문제점   \n",
        "1. 기울기 소실(Vanishing Gradient) & 폭주(Exploding Gradient)\n",
        "  - 층이 깊어질수록 역전파(Backpropagation) 과정에서 **기울기(Gradient)**가 0에 가까워지거나(소실), 너무 커져버리는(폭주) 문제가 발생\n",
        "  - Sigmoid, Tanh 같은 활성화 함수를 사용하면, 기울기 소실이 심해질 가능성이 큼.\n",
        "  - 해결 방법 → ReLU 계열 활성화 함수 사용, Batch Normalization, Residual Connection(잔차 연결) 적용.\n",
        "2. 과적합(Overfitting)\n",
        "  - 층이 많아질수록 모델의 파라미터(가중치) 수가 증가하여, 훈련 데이터에 너무 과하게 적응할 가능성이 높아짐.\n",
        "  - 이렇게 되면 훈련 데이터에서는 성능이 좋지만, 실제 테스트 데이터에서는 성능이 떨어지는 문제가 발생 가능\n",
        "  - 해결 방법 → Dropout, L2 정규화, 데이터 증강(Data Augmentation) 등 사용.\n",
        "3. 계산량 증가 → 학습 속도 저하\n",
        "  - 층이 깊어지면 학습할 가중치가 많아지고, 연산량도 증가하기 때문에 훈련 시간이 오래 걸림.\n",
        "  - 특히, 메모리(RAM/GPU) 사용량이 커지고, 학습이 비효율적일 수 있음.\n",
        "  - 해결 방법 → 적절한 층 수 선택, 모델 경량화(Pruning, Quantization) 활용.\n",
        "4. 정보 손실 & 비효율적인 특징 추출\n",
        "  - 입력 데이터를 지나치게 압축하면 원본 정보가 손실될 가능성이 있음.\n",
        "  - 예를 들어, 784(입력) → 100(은닉층) → 10(출력) 같은 구조라면, 너무 적은 은닉층 뉴런 수 때문에 정보가 많이 사라질 수도 있어.\n",
        "  - 해결 방법 → 적절한 뉴런 수 조절, Residual Connection 적용.\n",
        "- 층이 많을 때 효과적인 경우\n",
        "1. 딥러닝에서는 적절한 깊이가 필요함\n",
        "  - 간단한 문제(예: XOR, 숫자 분류) → 얕은 신경망(2~3층)도 충분\n",
        "  - 복잡한 문제(예: 이미지 분류, 자연어 처리) → 깊은 신경망 필요\n",
        "  - CNN(합성곱 신경망)에서는 층을 깊게 설계하면 더욱 강력한 특징을 추출할 수 있음. (예: ResNet, VGG, EfficientNet 등)\n",
        "2. Residual Connection(잔차 연결) 적용 → 깊은 신경망 학습 가능\n",
        "  - ResNet(Residual Network)은 **잔차 연결(Skip Connection)**을 도입하여 기울기 소실 문제를 해결하고 깊은 신경망을 학습 가능하게 만듦.\n",
        "  - 예를 들어, ResNet-50, ResNet-101 같은 모델은 매우 깊지만 안정적으로 학습할 수 있음.\n",
        "3. 층을 깊게 하면서도 연산량을 최적화하는 기법 활용\n",
        "  - 딥러닝 모델을 설계할 때 Dropout, Batch Normalization, Pruning, Quantization 같은 기법을 사용하면, 깊은 신경망의 문제를 완화하면서도 효율적으로 학습할 수 있음.\n",
        "\n",
        "### 결론\n",
        "  - \"적절한 깊이\"가 중요.\n",
        "    - 문제의 복잡도에 맞게 층 수를 조정해야 함.\n",
        "    - 간단한 문제(XOR, 숫자 분류)에는 얕은 네트워크, 복잡한 문제(이미지, 음성)에는 깊은 네트워크가 필요함.\n",
        "\n",
        "  - \"깊은 신경망을 안정적으로 학습시키는 기법\"이 중요.\n",
        "    - 기울기 소실 문제 해결을 위해 ReLU, Batch Normalization, Residual Connection(ResNet) 사용.\n",
        "    - 과적합 방지를 위해 Dropout, L2 정규화 적용."
      ],
      "metadata": {
        "id": "ped7tr3ymYDa"
      }
    },
    {
      "cell_type": "markdown",
      "source": [
        "## 📌 적절한 층(Depth)의 선택과 자동 최적화 방법\n",
        "### 1️⃣ \"적절한 깊이\"의 정도\n",
        "\n",
        "#### 1. 간단한 문제 (얕은 신경망으로 충분)\n",
        "  - 예제: MNIST 숫자 분류 (28×28 흑백 이미지)\n",
        "  - 층 수: 2~4개 정도\n",
        "  - 일반적인 구조\n",
        "  ```python\n",
        "  model = Sequential([\n",
        "    Dense(128, activation='relu', input_shape=(784,)),\n",
        "    Dense(64, activation='relu'),\n",
        "    Dense(10, activation='softmax')\n",
        "])\n",
        "# 입력층(784) → 은닉층(128 → 64) → 출력층(10)\n",
        "# 과적합 방지를 위해 Dropout 추가 가능\n",
        "```\n",
        "\n",
        "#### 2. 중간 난이도 문제 (일반적인 MLP 또는 CNN)\n",
        "- 예제: CIFAR-10 (32×32 컬러 이미지 분류), 일반적인 텍스트 분류\n",
        "- 층 수: 5~15개\n",
        "- CNN 구조 (예제)\n",
        "```python\n",
        "model = Sequential([\n",
        "    Conv2D(32, (3,3), activation='relu', input_shape=(32,32,3)),\n",
        "    MaxPooling2D((2,2)),\n",
        "    Conv2D(64, (3,3), activation='relu'),\n",
        "    MaxPooling2D((2,2)),\n",
        "    Flatten(),\n",
        "    Dense(128, activation='relu'),\n",
        "    Dense(10, activation='softmax')\n",
        "])\n",
        "# CNN을 활용하면 층이 많아도 학습이 원활함.\n",
        "```\n",
        "#### 3. 복잡한 문제 (딥러닝 모델 필요)\n",
        "- 예제: ImageNet 분류 (224×224 컬러\n",
        "- 층 수: 50개 이상 가능 (Residual Connection 필수)\n",
        "- 대표적인 모델:\n",
        "  - ResNet-50, ResNet-101 (잔차 연결 사용)\n",
        "  - BERT, GPT 시리즈 (Transformer 기반 → 수십 개 층)\n",
        "  - EfficientNet (NAS 기반 최적화 모델) <br>\n",
        "\n",
        "→ 단순히 층을 깊게 하기보다 Batch Normalization, Dropout, Residual Connection 등과 함께 설계해야 함.\n",
        "\n",
        "### 2️⃣ 층 수를 자동으로 정할 수 있을까?\n",
        "#### 1. 그리드 서치(Grid Search) 또는 랜덤 서치(Random Search)\n",
        "- 층 개수를 3, 5, 10, 20 등 몇 가지 후보로 정해놓고 실험하여 가장 좋은 결과를 선택.\n",
        "- KerasTuner를 활용하면 비교적 쉽게 적용 가능.\n",
        "```python\n",
        "from keras_tuner import RandomSearch\n",
        "from tensorflow.keras.models import Sequential\n",
        "from tensorflow.keras.layers import Dense\n",
        "\n",
        "def build_model(hp):\n",
        "    model = Sequential()\n",
        "    model.add(Dense(128, activation='relu', input_shape=(784,)))\n",
        "    \n",
        "    # 층 개수를 자동 선택 (1~5개)\n",
        "    for i in range(hp.Int('num_layers', 1, 5)):\n",
        "        model.add(Dense(hp.Int(f'units_{i}', min_value=32, max_value=256, step=32), activation='relu'))\n",
        "    \n",
        "    model.add(Dense(10, activation='softmax'))\n",
        "    model.compile(optimizer='adam', loss='sparse_categorical_crossentropy', metrics=['accuracy'])\n",
        "    return model\n",
        "\n",
        "tuner = RandomSearch(\n",
        "    build_model,\n",
        "    objective='val_accuracy',\n",
        "    max_trials=5\n",
        ")\n",
        "\n",
        "tuner.search(x_train, y_train, epochs=10, validation_split=0.2)\n",
        "# num_layers를 1~5개 중에서 자동으로 선택하고, 각 층의 뉴런 개수도 자동으로 튜닝!\n",
        "```\n",
        "\n",
        "#### 2. 신경망 아키텍처 검색 (Neural Architecture Search, NAS)\n",
        "- AI가 최적의 신경망 구조(층 개수 포함)를 찾아주는 방법.\n",
        "- 대표적인 NAS 알고리즘\n",
        "  - Auto-Keras (Keras 기반 자동 모델 탐색)\n",
        "  - Google AutoML (구글의 자동 모델 최적화)\n",
        "  - EfficientNet (NAS로 최적화된 CNN 모델)\n",
        "```python\n",
        "import autokeras as ak\n",
        "\n",
        "# 자동으로 최적의 CNN 모델 탐색: 최적의 층 개수 결정\n",
        "model = ak.ImageClassifier(max_trials=10)\n",
        "model.fit(x_train, y_train, epochs=20)\n",
        "```\n",
        "\n",
        "####  3. 점진적 학습 (Progressive Growing)\n",
        "- 작은 신경망으로 시작해서, 점진적으로 층을 추가하는 방법.\n",
        "- GAN(생성 모델)에서 활용되며, 작은 모델로 시작해 학습하면서 자동으로 깊이를 늘려가는 방식.\n",
        "```python\n",
        "for i in range(3, 10, 2):  # 3층에서 시작해서 10층까지 점진적 증가\n",
        "    model = Sequential()\n",
        "    model.add(Dense(128, activation='relu', input_shape=(784,)))\n",
        "    for _ in range(i):  # i개의 은닉층 추가\n",
        "        model.add(Dense(64, activation='relu'))\n",
        "    model.add(Dense(10, activation='softmax'))\n",
        "    model.compile(optimizer='adam', loss='sparse_categorical_crossentropy', metrics=['accuracy'])\n",
        "    \n",
        "    print(f\"Training model with {i} layers\")\n",
        "    model.fit(x_train, y_train, epochs=5, validation_split=0.2)\n",
        "```\n",
        "\n",
        "## **적절한 층 수는 문제에 따라 다르지만, 일반적으로 3~15층이면 대부분의 문제에 충분.**"
      ],
      "metadata": {
        "id": "PlXyzX-Aonph"
      }
    },
    {
      "cell_type": "markdown",
      "source": [
        "# 7-2. 심층 신경망"
      ],
      "metadata": {
        "id": "EDHAtzq2qVWt"
      }
    },
    {
      "cell_type": "code",
      "source": [
        "# 실행마다 동일한 결과를 얻기 위해 케라스에 랜덤 시드를 사용하고 텐서플로 연산을 결정적으로 만듭니다.\n",
        "import tensorflow as tf\n",
        "\n",
        "tf.keras.utils.set_random_seed(42)\n",
        "tf.config.experimental.enable_op_determinism()"
      ],
      "metadata": {
        "id": "BilUuH2BzNpQ"
      },
      "execution_count": null,
      "outputs": []
    },
    {
      "cell_type": "markdown",
      "source": [
        "> ## 키워드\n",
        "- 심층 신경망: 2개 이상의 층을 포함한 신경망.\n",
        "- 렐루 함수: 이미지 분류 모델의 은닉층에 많이 사용하는 활성화 함수. 시그모이드 함수는 층이 많을수록 활성화 함수의 양쪽 끝에서 변화가 작기 때문에 학습이 어려워지나, 렐루 함수는 이런 문제도 없고 계산도 간단하다.\n",
        "- 옵티마이저: 신경망의 가중치와 절편을 학습하기 위한 알고리즘 또는 방법. SGD, 네스테로프 모덴텀, RMSprop, Adam 등이 있다.\n",
        "- 적응적 학습력: 모델이 최적점에 가까이 가며 학습률이 낮아지는 현상"
      ],
      "metadata": {
        "id": "XHgA7rmirjdA"
      }
    },
    {
      "cell_type": "markdown",
      "source": [
        "> ## 핵심 패키지와 함수\n",
        "### TensorFlow\n",
        "- add()는 케라스 모델에 층을 추가하는 메서드\n",
        "  - 케라스 모델의 add() 메서드는 keras.layers 패키지 아래에 있는 층의 객체를 입력받아 신경망 모델에 추가합니다. add() 메서드를 호출하여 전달한 순서대로 층이 차례대로 늘어납니다.\n",
        "- summary()는 케라스 모델의 정보를 출력하는 메서드\n",
        "  - 모델에 추가도니 층의 종류와 순서, 모델 파라미터 개수를 출력.\n",
        "- SGD: 기본 경사 하강법 옵티마이저 클래스\n",
        "  - learning_rate 매개변수로 학습률을 지정하며 기본값은 0.01\n",
        "  - momentum 매개변수에 0 이상의 값을 지정하면 모멘텀 최적화를 수행\n",
        "  - nesterov 매개변수를 True로 설정하면 네스테로프 모멘텀 최적화를 수행\n",
        "    - **모멘텀 최적화(Momentum Optimization)**는 기울기(Gradient) 기반 최적화 알고리즘 중 하나로, 이전 업데이트 정보를 반영하여 학습 속도를 높이고, 진동(oscillation)을 줄이는 방법(이전 결과를 반영하여 한 쪽 방향으로 강화 학습)\n",
        "- Adagrad: Adagrad 옵티마이저 클래스\n",
        "  - learning_rate 매개변수로 학습률을 지정하며 기본값은 0.001\n",
        "  - Adagrad는 그레이디언트 제곱을 누적하여 학습률을 나눕니다. -\n",
        "  - initial_accumulator_value 매개변수에서 누적 초깃값을 지정할 수 있으며 기본값은 0.1\n",
        "- RMSprop: RMSprop 옵티마이저 클래스\n",
        "  - learning_rate 매개변수로 학습률을 지정하며 기본값은 0.001\n",
        "  - Adagrad처럼 그레이디언트 제곱으로 학습률을 나누지만, 최근의 그레이디언트를 사요하기 위해 지수 감소를 사용. rho 매개변수에서 감소 비율을 지정하며 기본값은 0.9\n",
        "- Adam: Adam 옵티마이저 클래스\n",
        "  - learning_rate 매개변수로 학습률을 지정하며 기본값은 0.001\n",
        "  - 모멘텀 최적화에 있는 그레이디언트의 지수 감소 평균을 조절하기 위해 beta_1 매개변수가 있으며 기본값은 0.9\n",
        "  - RMSprop에 있는 그레이디언트 제곱의 지수 감소 평균ㅇ르 조절하기 위해 beta_2 매개변수가 있으며 기본값은 0.999\n",
        "   ※ 그레이디언트(Gradient)는 **기울기(미분 값)**, 함수의 특정 점에서 가장 가파르게 증가하는 방향과 크기를 나타내는 벡터"
      ],
      "metadata": {
        "id": "_Nt8RhJ70Al1"
      }
    },
    {
      "cell_type": "markdown",
      "source": [
        "## 2개의 층"
      ],
      "metadata": {
        "id": "EQPQmVkHqgfj"
      }
    },
    {
      "cell_type": "code",
      "source": [
        "from tensorflow import keras\n",
        "\n",
        "(train_input, train_target), (test_input, test_target) = keras.datasets.fashion_mnist.load_data()"
      ],
      "metadata": {
        "id": "ydkvQZwDqj9D"
      },
      "execution_count": null,
      "outputs": []
    },
    {
      "cell_type": "code",
      "source": [
        "from sklearn.model_selection import train_test_split\n",
        "\n",
        "train_scaled = train_input / 255.0\n",
        "train_scaled = train_scaled.reshape(-1, 28*28)\n",
        "\n",
        "train_scaled, val_scaled, train_target, val_target = train_test_split(\n",
        "    train_scaled, train_target, test_size=0.2, random_state=42)"
      ],
      "metadata": {
        "id": "JrV5n6fFql5-"
      },
      "execution_count": null,
      "outputs": []
    },
    {
      "cell_type": "code",
      "source": [
        "dense1 = keras.layers.Dense(100, activation='sigmoid', input_shape=(784,))\n",
        "dense2 = keras.layers.Dense(10, activation='softmax')"
      ],
      "metadata": {
        "id": "zGtjKEVVqoFg"
      },
      "execution_count": null,
      "outputs": []
    },
    {
      "cell_type": "markdown",
      "source": [
        "## 심층 신경망"
      ],
      "metadata": {
        "id": "ZmzDyMy33LTN"
      }
    },
    {
      "cell_type": "code",
      "source": [
        "model = keras.Sequential([dense1, dense2])"
      ],
      "metadata": {
        "id": "ga4uFIh13K6B"
      },
      "execution_count": null,
      "outputs": []
    },
    {
      "cell_type": "code",
      "source": [
        "model.summary()"
      ],
      "metadata": {
        "colab": {
          "base_uri": "https://localhost:8080/"
        },
        "id": "X7FLpYxJ3OIz",
        "outputId": "b5d85a35-42c7-4a5e-c07a-ff62fd5679f1"
      },
      "execution_count": null,
      "outputs": [
        {
          "output_type": "display_data",
          "data": {
            "text/plain": [
              "\u001b[1mModel: \"sequential_1\"\u001b[0m\n"
            ],
            "text/html": [
              "<pre style=\"white-space:pre;overflow-x:auto;line-height:normal;font-family:Menlo,'DejaVu Sans Mono',consolas,'Courier New',monospace\"><span style=\"font-weight: bold\">Model: \"sequential_1\"</span>\n",
              "</pre>\n"
            ]
          },
          "metadata": {}
        },
        {
          "output_type": "display_data",
          "data": {
            "text/plain": [
              "┏━━━━━━━━━━━━━━━━━━━━━━━━━━━━━━━━━━━━━━┳━━━━━━━━━━━━━━━━━━━━━━━━━━━━━┳━━━━━━━━━━━━━━━━━┓\n",
              "┃\u001b[1m \u001b[0m\u001b[1mLayer (type)                        \u001b[0m\u001b[1m \u001b[0m┃\u001b[1m \u001b[0m\u001b[1mOutput Shape               \u001b[0m\u001b[1m \u001b[0m┃\u001b[1m \u001b[0m\u001b[1m        Param #\u001b[0m\u001b[1m \u001b[0m┃\n",
              "┡━━━━━━━━━━━━━━━━━━━━━━━━━━━━━━━━━━━━━━╇━━━━━━━━━━━━━━━━━━━━━━━━━━━━━╇━━━━━━━━━━━━━━━━━┩\n",
              "│ dense_1 (\u001b[38;5;33mDense\u001b[0m)                      │ (\u001b[38;5;45mNone\u001b[0m, \u001b[38;5;34m100\u001b[0m)                 │          \u001b[38;5;34m78,500\u001b[0m │\n",
              "├──────────────────────────────────────┼─────────────────────────────┼─────────────────┤\n",
              "│ dense_2 (\u001b[38;5;33mDense\u001b[0m)                      │ (\u001b[38;5;45mNone\u001b[0m, \u001b[38;5;34m10\u001b[0m)                  │           \u001b[38;5;34m1,010\u001b[0m │\n",
              "└──────────────────────────────────────┴─────────────────────────────┴─────────────────┘\n"
            ],
            "text/html": [
              "<pre style=\"white-space:pre;overflow-x:auto;line-height:normal;font-family:Menlo,'DejaVu Sans Mono',consolas,'Courier New',monospace\">┏━━━━━━━━━━━━━━━━━━━━━━━━━━━━━━━━━━━━━━┳━━━━━━━━━━━━━━━━━━━━━━━━━━━━━┳━━━━━━━━━━━━━━━━━┓\n",
              "┃<span style=\"font-weight: bold\"> Layer (type)                         </span>┃<span style=\"font-weight: bold\"> Output Shape                </span>┃<span style=\"font-weight: bold\">         Param # </span>┃\n",
              "┡━━━━━━━━━━━━━━━━━━━━━━━━━━━━━━━━━━━━━━╇━━━━━━━━━━━━━━━━━━━━━━━━━━━━━╇━━━━━━━━━━━━━━━━━┩\n",
              "│ dense_1 (<span style=\"color: #0087ff; text-decoration-color: #0087ff\">Dense</span>)                      │ (<span style=\"color: #00d7ff; text-decoration-color: #00d7ff\">None</span>, <span style=\"color: #00af00; text-decoration-color: #00af00\">100</span>)                 │          <span style=\"color: #00af00; text-decoration-color: #00af00\">78,500</span> │\n",
              "├──────────────────────────────────────┼─────────────────────────────┼─────────────────┤\n",
              "│ dense_2 (<span style=\"color: #0087ff; text-decoration-color: #0087ff\">Dense</span>)                      │ (<span style=\"color: #00d7ff; text-decoration-color: #00d7ff\">None</span>, <span style=\"color: #00af00; text-decoration-color: #00af00\">10</span>)                  │           <span style=\"color: #00af00; text-decoration-color: #00af00\">1,010</span> │\n",
              "└──────────────────────────────────────┴─────────────────────────────┴─────────────────┘\n",
              "</pre>\n"
            ]
          },
          "metadata": {}
        },
        {
          "output_type": "display_data",
          "data": {
            "text/plain": [
              "\u001b[1m Total params: \u001b[0m\u001b[38;5;34m79,510\u001b[0m (310.59 KB)\n"
            ],
            "text/html": [
              "<pre style=\"white-space:pre;overflow-x:auto;line-height:normal;font-family:Menlo,'DejaVu Sans Mono',consolas,'Courier New',monospace\"><span style=\"font-weight: bold\"> Total params: </span><span style=\"color: #00af00; text-decoration-color: #00af00\">79,510</span> (310.59 KB)\n",
              "</pre>\n"
            ]
          },
          "metadata": {}
        },
        {
          "output_type": "display_data",
          "data": {
            "text/plain": [
              "\u001b[1m Trainable params: \u001b[0m\u001b[38;5;34m79,510\u001b[0m (310.59 KB)\n"
            ],
            "text/html": [
              "<pre style=\"white-space:pre;overflow-x:auto;line-height:normal;font-family:Menlo,'DejaVu Sans Mono',consolas,'Courier New',monospace\"><span style=\"font-weight: bold\"> Trainable params: </span><span style=\"color: #00af00; text-decoration-color: #00af00\">79,510</span> (310.59 KB)\n",
              "</pre>\n"
            ]
          },
          "metadata": {}
        },
        {
          "output_type": "display_data",
          "data": {
            "text/plain": [
              "\u001b[1m Non-trainable params: \u001b[0m\u001b[38;5;34m0\u001b[0m (0.00 B)\n"
            ],
            "text/html": [
              "<pre style=\"white-space:pre;overflow-x:auto;line-height:normal;font-family:Menlo,'DejaVu Sans Mono',consolas,'Courier New',monospace\"><span style=\"font-weight: bold\"> Non-trainable params: </span><span style=\"color: #00af00; text-decoration-color: #00af00\">0</span> (0.00 B)\n",
              "</pre>\n"
            ]
          },
          "metadata": {}
        }
      ]
    },
    {
      "cell_type": "markdown",
      "source": [
        "- $파라미터 개수=(입력 뉴런 수×출력 뉴런 수)+출력 뉴런 수$"
      ],
      "metadata": {
        "id": "WNrKLXFGBolJ"
      }
    },
    {
      "cell_type": "markdown",
      "source": [
        "## 층을 추가하는 다른 방법"
      ],
      "metadata": {
        "id": "gxjmwr_m3Qpy"
      }
    },
    {
      "cell_type": "code",
      "source": [
        "model = keras.Sequential([\n",
        "    keras.layers.Dense(100, activation='sigmoid', input_shape=(784,), name='hidden'),\n",
        "    keras.layers.Dense(10, activation='softmax', name='output')\n",
        "], name='패션 MNIST 모델')"
      ],
      "metadata": {
        "id": "sRhgmo3I3PT0"
      },
      "execution_count": null,
      "outputs": []
    },
    {
      "cell_type": "code",
      "source": [
        "model.summary()"
      ],
      "metadata": {
        "colab": {
          "base_uri": "https://localhost:8080/",
          "height": 204
        },
        "id": "EC5szi5E3XIr",
        "outputId": "4bea9e93-8407-437a-86f6-69d0d7c84f44"
      },
      "execution_count": null,
      "outputs": [
        {
          "output_type": "display_data",
          "data": {
            "text/plain": [
              "\u001b[1mModel: \"패션 MNIST 모델\"\u001b[0m\n"
            ],
            "text/html": [
              "<pre style=\"white-space:pre;overflow-x:auto;line-height:normal;font-family:Menlo,'DejaVu Sans Mono',consolas,'Courier New',monospace\"><span style=\"font-weight: bold\">Model: \"패션 MNIST 모델\"</span>\n",
              "</pre>\n"
            ]
          },
          "metadata": {}
        },
        {
          "output_type": "display_data",
          "data": {
            "text/plain": [
              "┏━━━━━━━━━━━━━━━━━━━━━━━━━━━━━━━━━━━━━━┳━━━━━━━━━━━━━━━━━━━━━━━━━━━━━┳━━━━━━━━━━━━━━━━━┓\n",
              "┃\u001b[1m \u001b[0m\u001b[1mLayer (type)                        \u001b[0m\u001b[1m \u001b[0m┃\u001b[1m \u001b[0m\u001b[1mOutput Shape               \u001b[0m\u001b[1m \u001b[0m┃\u001b[1m \u001b[0m\u001b[1m        Param #\u001b[0m\u001b[1m \u001b[0m┃\n",
              "┡━━━━━━━━━━━━━━━━━━━━━━━━━━━━━━━━━━━━━━╇━━━━━━━━━━━━━━━━━━━━━━━━━━━━━╇━━━━━━━━━━━━━━━━━┩\n",
              "│ hidden (\u001b[38;5;33mDense\u001b[0m)                       │ (\u001b[38;5;45mNone\u001b[0m, \u001b[38;5;34m100\u001b[0m)                 │          \u001b[38;5;34m78,500\u001b[0m │\n",
              "├──────────────────────────────────────┼─────────────────────────────┼─────────────────┤\n",
              "│ output (\u001b[38;5;33mDense\u001b[0m)                       │ (\u001b[38;5;45mNone\u001b[0m, \u001b[38;5;34m10\u001b[0m)                  │           \u001b[38;5;34m1,010\u001b[0m │\n",
              "└──────────────────────────────────────┴─────────────────────────────┴─────────────────┘\n"
            ],
            "text/html": [
              "<pre style=\"white-space:pre;overflow-x:auto;line-height:normal;font-family:Menlo,'DejaVu Sans Mono',consolas,'Courier New',monospace\">┏━━━━━━━━━━━━━━━━━━━━━━━━━━━━━━━━━━━━━━┳━━━━━━━━━━━━━━━━━━━━━━━━━━━━━┳━━━━━━━━━━━━━━━━━┓\n",
              "┃<span style=\"font-weight: bold\"> Layer (type)                         </span>┃<span style=\"font-weight: bold\"> Output Shape                </span>┃<span style=\"font-weight: bold\">         Param # </span>┃\n",
              "┡━━━━━━━━━━━━━━━━━━━━━━━━━━━━━━━━━━━━━━╇━━━━━━━━━━━━━━━━━━━━━━━━━━━━━╇━━━━━━━━━━━━━━━━━┩\n",
              "│ hidden (<span style=\"color: #0087ff; text-decoration-color: #0087ff\">Dense</span>)                       │ (<span style=\"color: #00d7ff; text-decoration-color: #00d7ff\">None</span>, <span style=\"color: #00af00; text-decoration-color: #00af00\">100</span>)                 │          <span style=\"color: #00af00; text-decoration-color: #00af00\">78,500</span> │\n",
              "├──────────────────────────────────────┼─────────────────────────────┼─────────────────┤\n",
              "│ output (<span style=\"color: #0087ff; text-decoration-color: #0087ff\">Dense</span>)                       │ (<span style=\"color: #00d7ff; text-decoration-color: #00d7ff\">None</span>, <span style=\"color: #00af00; text-decoration-color: #00af00\">10</span>)                  │           <span style=\"color: #00af00; text-decoration-color: #00af00\">1,010</span> │\n",
              "└──────────────────────────────────────┴─────────────────────────────┴─────────────────┘\n",
              "</pre>\n"
            ]
          },
          "metadata": {}
        },
        {
          "output_type": "display_data",
          "data": {
            "text/plain": [
              "\u001b[1m Total params: \u001b[0m\u001b[38;5;34m79,510\u001b[0m (310.59 KB)\n"
            ],
            "text/html": [
              "<pre style=\"white-space:pre;overflow-x:auto;line-height:normal;font-family:Menlo,'DejaVu Sans Mono',consolas,'Courier New',monospace\"><span style=\"font-weight: bold\"> Total params: </span><span style=\"color: #00af00; text-decoration-color: #00af00\">79,510</span> (310.59 KB)\n",
              "</pre>\n"
            ]
          },
          "metadata": {}
        },
        {
          "output_type": "display_data",
          "data": {
            "text/plain": [
              "\u001b[1m Trainable params: \u001b[0m\u001b[38;5;34m79,510\u001b[0m (310.59 KB)\n"
            ],
            "text/html": [
              "<pre style=\"white-space:pre;overflow-x:auto;line-height:normal;font-family:Menlo,'DejaVu Sans Mono',consolas,'Courier New',monospace\"><span style=\"font-weight: bold\"> Trainable params: </span><span style=\"color: #00af00; text-decoration-color: #00af00\">79,510</span> (310.59 KB)\n",
              "</pre>\n"
            ]
          },
          "metadata": {}
        },
        {
          "output_type": "display_data",
          "data": {
            "text/plain": [
              "\u001b[1m Non-trainable params: \u001b[0m\u001b[38;5;34m0\u001b[0m (0.00 B)\n"
            ],
            "text/html": [
              "<pre style=\"white-space:pre;overflow-x:auto;line-height:normal;font-family:Menlo,'DejaVu Sans Mono',consolas,'Courier New',monospace\"><span style=\"font-weight: bold\"> Non-trainable params: </span><span style=\"color: #00af00; text-decoration-color: #00af00\">0</span> (0.00 B)\n",
              "</pre>\n"
            ]
          },
          "metadata": {}
        }
      ]
    },
    {
      "cell_type": "code",
      "source": [
        "model = keras.Sequential()\n",
        "model.add(keras.layers.Dense(100, activation='sigmoid', input_shape=(784,)))\n",
        "model.add(keras.layers.Dense(10, activation='softmax'))"
      ],
      "metadata": {
        "id": "o7vMOblC3aRc"
      },
      "execution_count": null,
      "outputs": []
    },
    {
      "cell_type": "code",
      "source": [
        "model.summary()"
      ],
      "metadata": {
        "colab": {
          "base_uri": "https://localhost:8080/",
          "height": 204
        },
        "id": "5dAy0S-q3bco",
        "outputId": "a07a6a2a-e17d-4789-9d09-b23b40164d34"
      },
      "execution_count": null,
      "outputs": [
        {
          "output_type": "display_data",
          "data": {
            "text/plain": [
              "\u001b[1mModel: \"sequential_2\"\u001b[0m\n"
            ],
            "text/html": [
              "<pre style=\"white-space:pre;overflow-x:auto;line-height:normal;font-family:Menlo,'DejaVu Sans Mono',consolas,'Courier New',monospace\"><span style=\"font-weight: bold\">Model: \"sequential_2\"</span>\n",
              "</pre>\n"
            ]
          },
          "metadata": {}
        },
        {
          "output_type": "display_data",
          "data": {
            "text/plain": [
              "┏━━━━━━━━━━━━━━━━━━━━━━━━━━━━━━━━━━━━━━┳━━━━━━━━━━━━━━━━━━━━━━━━━━━━━┳━━━━━━━━━━━━━━━━━┓\n",
              "┃\u001b[1m \u001b[0m\u001b[1mLayer (type)                        \u001b[0m\u001b[1m \u001b[0m┃\u001b[1m \u001b[0m\u001b[1mOutput Shape               \u001b[0m\u001b[1m \u001b[0m┃\u001b[1m \u001b[0m\u001b[1m        Param #\u001b[0m\u001b[1m \u001b[0m┃\n",
              "┡━━━━━━━━━━━━━━━━━━━━━━━━━━━━━━━━━━━━━━╇━━━━━━━━━━━━━━━━━━━━━━━━━━━━━╇━━━━━━━━━━━━━━━━━┩\n",
              "│ dense_3 (\u001b[38;5;33mDense\u001b[0m)                      │ (\u001b[38;5;45mNone\u001b[0m, \u001b[38;5;34m100\u001b[0m)                 │          \u001b[38;5;34m78,500\u001b[0m │\n",
              "├──────────────────────────────────────┼─────────────────────────────┼─────────────────┤\n",
              "│ dense_4 (\u001b[38;5;33mDense\u001b[0m)                      │ (\u001b[38;5;45mNone\u001b[0m, \u001b[38;5;34m10\u001b[0m)                  │           \u001b[38;5;34m1,010\u001b[0m │\n",
              "└──────────────────────────────────────┴─────────────────────────────┴─────────────────┘\n"
            ],
            "text/html": [
              "<pre style=\"white-space:pre;overflow-x:auto;line-height:normal;font-family:Menlo,'DejaVu Sans Mono',consolas,'Courier New',monospace\">┏━━━━━━━━━━━━━━━━━━━━━━━━━━━━━━━━━━━━━━┳━━━━━━━━━━━━━━━━━━━━━━━━━━━━━┳━━━━━━━━━━━━━━━━━┓\n",
              "┃<span style=\"font-weight: bold\"> Layer (type)                         </span>┃<span style=\"font-weight: bold\"> Output Shape                </span>┃<span style=\"font-weight: bold\">         Param # </span>┃\n",
              "┡━━━━━━━━━━━━━━━━━━━━━━━━━━━━━━━━━━━━━━╇━━━━━━━━━━━━━━━━━━━━━━━━━━━━━╇━━━━━━━━━━━━━━━━━┩\n",
              "│ dense_3 (<span style=\"color: #0087ff; text-decoration-color: #0087ff\">Dense</span>)                      │ (<span style=\"color: #00d7ff; text-decoration-color: #00d7ff\">None</span>, <span style=\"color: #00af00; text-decoration-color: #00af00\">100</span>)                 │          <span style=\"color: #00af00; text-decoration-color: #00af00\">78,500</span> │\n",
              "├──────────────────────────────────────┼─────────────────────────────┼─────────────────┤\n",
              "│ dense_4 (<span style=\"color: #0087ff; text-decoration-color: #0087ff\">Dense</span>)                      │ (<span style=\"color: #00d7ff; text-decoration-color: #00d7ff\">None</span>, <span style=\"color: #00af00; text-decoration-color: #00af00\">10</span>)                  │           <span style=\"color: #00af00; text-decoration-color: #00af00\">1,010</span> │\n",
              "└──────────────────────────────────────┴─────────────────────────────┴─────────────────┘\n",
              "</pre>\n"
            ]
          },
          "metadata": {}
        },
        {
          "output_type": "display_data",
          "data": {
            "text/plain": [
              "\u001b[1m Total params: \u001b[0m\u001b[38;5;34m79,510\u001b[0m (310.59 KB)\n"
            ],
            "text/html": [
              "<pre style=\"white-space:pre;overflow-x:auto;line-height:normal;font-family:Menlo,'DejaVu Sans Mono',consolas,'Courier New',monospace\"><span style=\"font-weight: bold\"> Total params: </span><span style=\"color: #00af00; text-decoration-color: #00af00\">79,510</span> (310.59 KB)\n",
              "</pre>\n"
            ]
          },
          "metadata": {}
        },
        {
          "output_type": "display_data",
          "data": {
            "text/plain": [
              "\u001b[1m Trainable params: \u001b[0m\u001b[38;5;34m79,510\u001b[0m (310.59 KB)\n"
            ],
            "text/html": [
              "<pre style=\"white-space:pre;overflow-x:auto;line-height:normal;font-family:Menlo,'DejaVu Sans Mono',consolas,'Courier New',monospace\"><span style=\"font-weight: bold\"> Trainable params: </span><span style=\"color: #00af00; text-decoration-color: #00af00\">79,510</span> (310.59 KB)\n",
              "</pre>\n"
            ]
          },
          "metadata": {}
        },
        {
          "output_type": "display_data",
          "data": {
            "text/plain": [
              "\u001b[1m Non-trainable params: \u001b[0m\u001b[38;5;34m0\u001b[0m (0.00 B)\n"
            ],
            "text/html": [
              "<pre style=\"white-space:pre;overflow-x:auto;line-height:normal;font-family:Menlo,'DejaVu Sans Mono',consolas,'Courier New',monospace\"><span style=\"font-weight: bold\"> Non-trainable params: </span><span style=\"color: #00af00; text-decoration-color: #00af00\">0</span> (0.00 B)\n",
              "</pre>\n"
            ]
          },
          "metadata": {}
        }
      ]
    },
    {
      "cell_type": "code",
      "source": [
        "# 모델 컴파일 (손실 함수 및 평가 지표 설정)\n",
        "model.compile(\n",
        "    loss='sparse_categorical_crossentropy',  # 다중 클래스 분류 문제에서 정수형 라벨을 사용할 때 적합한 손실 함수\n",
        "    metrics=['accuracy']  # 모델의 성능을 평가할 지표로 정확도(accuracy)를 사용\n",
        ")\n",
        "# 원-핫 인코딩된 라벨을 사용한다면, 손실 함수로 'categorical_crossentropy'를 사용해야 함.\n",
        "model.fit(train_scaled, train_target, epochs=5)"
      ],
      "metadata": {
        "colab": {
          "base_uri": "https://localhost:8080/"
        },
        "id": "ysKmsVtV3fhz",
        "outputId": "558a1e5e-ef40-4dd5-87c7-34990f7fae4d"
      },
      "execution_count": null,
      "outputs": [
        {
          "output_type": "stream",
          "name": "stdout",
          "text": [
            "Epoch 1/5\n",
            "\u001b[1m1500/1500\u001b[0m \u001b[32m━━━━━━━━━━━━━━━━━━━━\u001b[0m\u001b[37m\u001b[0m \u001b[1m5s\u001b[0m 3ms/step - accuracy: 0.7525 - loss: 0.7720\n",
            "Epoch 2/5\n",
            "\u001b[1m1500/1500\u001b[0m \u001b[32m━━━━━━━━━━━━━━━━━━━━\u001b[0m\u001b[37m\u001b[0m \u001b[1m6s\u001b[0m 3ms/step - accuracy: 0.8463 - loss: 0.4270\n",
            "Epoch 3/5\n",
            "\u001b[1m1500/1500\u001b[0m \u001b[32m━━━━━━━━━━━━━━━━━━━━\u001b[0m\u001b[37m\u001b[0m \u001b[1m4s\u001b[0m 3ms/step - accuracy: 0.8604 - loss: 0.3857\n",
            "Epoch 4/5\n",
            "\u001b[1m1500/1500\u001b[0m \u001b[32m━━━━━━━━━━━━━━━━━━━━\u001b[0m\u001b[37m\u001b[0m \u001b[1m4s\u001b[0m 3ms/step - accuracy: 0.8696 - loss: 0.3600\n",
            "Epoch 5/5\n",
            "\u001b[1m1500/1500\u001b[0m \u001b[32m━━━━━━━━━━━━━━━━━━━━\u001b[0m\u001b[37m\u001b[0m \u001b[1m6s\u001b[0m 4ms/step - accuracy: 0.8759 - loss: 0.3410\n"
          ]
        },
        {
          "output_type": "execute_result",
          "data": {
            "text/plain": [
              "<keras.src.callbacks.history.History at 0x7ccb697e0810>"
            ]
          },
          "metadata": {},
          "execution_count": 35
        }
      ]
    },
    {
      "cell_type": "markdown",
      "source": [
        "## 렐루 함수\n",
        "- maz(0,z)"
      ],
      "metadata": {
        "id": "Ot3udxkQAU-z"
      }
    },
    {
      "cell_type": "code",
      "source": [
        "model = keras.Sequential()\n",
        "model.add(keras.layers.Flatten(input_shape=(28, 28))) # Flatten 층은 입력층 바로 뒤에 추가. 배치 차원을 제외한 나머지 입력 차원을 일렬로 펼치는 역할을 한다. (학습층은 아니다.)\n",
        "model.add(keras.layers.Dense(100, activation='relu'))\n",
        "model.add(keras.layers.Dense(10, activation='softmax'))"
      ],
      "metadata": {
        "colab": {
          "base_uri": "https://localhost:8080/"
        },
        "id": "PevFeOQDAeHM",
        "outputId": "341eceef-ae01-4282-e845-386d93a5b6ac"
      },
      "execution_count": null,
      "outputs": [
        {
          "output_type": "stream",
          "name": "stderr",
          "text": [
            "/usr/local/lib/python3.11/dist-packages/keras/src/layers/reshaping/flatten.py:37: UserWarning: Do not pass an `input_shape`/`input_dim` argument to a layer. When using Sequential models, prefer using an `Input(shape)` object as the first layer in the model instead.\n",
            "  super().__init__(**kwargs)\n"
          ]
        }
      ]
    },
    {
      "cell_type": "code",
      "source": [
        "model.summary()"
      ],
      "metadata": {
        "colab": {
          "base_uri": "https://localhost:8080/",
          "height": 238
        },
        "id": "oY9i0IiJAs2J",
        "outputId": "5203d9ef-eca0-401e-e831-a16f4c1d2053"
      },
      "execution_count": null,
      "outputs": [
        {
          "output_type": "display_data",
          "data": {
            "text/plain": [
              "\u001b[1mModel: \"sequential_3\"\u001b[0m\n"
            ],
            "text/html": [
              "<pre style=\"white-space:pre;overflow-x:auto;line-height:normal;font-family:Menlo,'DejaVu Sans Mono',consolas,'Courier New',monospace\"><span style=\"font-weight: bold\">Model: \"sequential_3\"</span>\n",
              "</pre>\n"
            ]
          },
          "metadata": {}
        },
        {
          "output_type": "display_data",
          "data": {
            "text/plain": [
              "┏━━━━━━━━━━━━━━━━━━━━━━━━━━━━━━━━━━━━━━┳━━━━━━━━━━━━━━━━━━━━━━━━━━━━━┳━━━━━━━━━━━━━━━━━┓\n",
              "┃\u001b[1m \u001b[0m\u001b[1mLayer (type)                        \u001b[0m\u001b[1m \u001b[0m┃\u001b[1m \u001b[0m\u001b[1mOutput Shape               \u001b[0m\u001b[1m \u001b[0m┃\u001b[1m \u001b[0m\u001b[1m        Param #\u001b[0m\u001b[1m \u001b[0m┃\n",
              "┡━━━━━━━━━━━━━━━━━━━━━━━━━━━━━━━━━━━━━━╇━━━━━━━━━━━━━━━━━━━━━━━━━━━━━╇━━━━━━━━━━━━━━━━━┩\n",
              "│ flatten (\u001b[38;5;33mFlatten\u001b[0m)                    │ (\u001b[38;5;45mNone\u001b[0m, \u001b[38;5;34m784\u001b[0m)                 │               \u001b[38;5;34m0\u001b[0m │\n",
              "├──────────────────────────────────────┼─────────────────────────────┼─────────────────┤\n",
              "│ dense_5 (\u001b[38;5;33mDense\u001b[0m)                      │ (\u001b[38;5;45mNone\u001b[0m, \u001b[38;5;34m100\u001b[0m)                 │          \u001b[38;5;34m78,500\u001b[0m │\n",
              "├──────────────────────────────────────┼─────────────────────────────┼─────────────────┤\n",
              "│ dense_6 (\u001b[38;5;33mDense\u001b[0m)                      │ (\u001b[38;5;45mNone\u001b[0m, \u001b[38;5;34m10\u001b[0m)                  │           \u001b[38;5;34m1,010\u001b[0m │\n",
              "└──────────────────────────────────────┴─────────────────────────────┴─────────────────┘\n"
            ],
            "text/html": [
              "<pre style=\"white-space:pre;overflow-x:auto;line-height:normal;font-family:Menlo,'DejaVu Sans Mono',consolas,'Courier New',monospace\">┏━━━━━━━━━━━━━━━━━━━━━━━━━━━━━━━━━━━━━━┳━━━━━━━━━━━━━━━━━━━━━━━━━━━━━┳━━━━━━━━━━━━━━━━━┓\n",
              "┃<span style=\"font-weight: bold\"> Layer (type)                         </span>┃<span style=\"font-weight: bold\"> Output Shape                </span>┃<span style=\"font-weight: bold\">         Param # </span>┃\n",
              "┡━━━━━━━━━━━━━━━━━━━━━━━━━━━━━━━━━━━━━━╇━━━━━━━━━━━━━━━━━━━━━━━━━━━━━╇━━━━━━━━━━━━━━━━━┩\n",
              "│ flatten (<span style=\"color: #0087ff; text-decoration-color: #0087ff\">Flatten</span>)                    │ (<span style=\"color: #00d7ff; text-decoration-color: #00d7ff\">None</span>, <span style=\"color: #00af00; text-decoration-color: #00af00\">784</span>)                 │               <span style=\"color: #00af00; text-decoration-color: #00af00\">0</span> │\n",
              "├──────────────────────────────────────┼─────────────────────────────┼─────────────────┤\n",
              "│ dense_5 (<span style=\"color: #0087ff; text-decoration-color: #0087ff\">Dense</span>)                      │ (<span style=\"color: #00d7ff; text-decoration-color: #00d7ff\">None</span>, <span style=\"color: #00af00; text-decoration-color: #00af00\">100</span>)                 │          <span style=\"color: #00af00; text-decoration-color: #00af00\">78,500</span> │\n",
              "├──────────────────────────────────────┼─────────────────────────────┼─────────────────┤\n",
              "│ dense_6 (<span style=\"color: #0087ff; text-decoration-color: #0087ff\">Dense</span>)                      │ (<span style=\"color: #00d7ff; text-decoration-color: #00d7ff\">None</span>, <span style=\"color: #00af00; text-decoration-color: #00af00\">10</span>)                  │           <span style=\"color: #00af00; text-decoration-color: #00af00\">1,010</span> │\n",
              "└──────────────────────────────────────┴─────────────────────────────┴─────────────────┘\n",
              "</pre>\n"
            ]
          },
          "metadata": {}
        },
        {
          "output_type": "display_data",
          "data": {
            "text/plain": [
              "\u001b[1m Total params: \u001b[0m\u001b[38;5;34m79,510\u001b[0m (310.59 KB)\n"
            ],
            "text/html": [
              "<pre style=\"white-space:pre;overflow-x:auto;line-height:normal;font-family:Menlo,'DejaVu Sans Mono',consolas,'Courier New',monospace\"><span style=\"font-weight: bold\"> Total params: </span><span style=\"color: #00af00; text-decoration-color: #00af00\">79,510</span> (310.59 KB)\n",
              "</pre>\n"
            ]
          },
          "metadata": {}
        },
        {
          "output_type": "display_data",
          "data": {
            "text/plain": [
              "\u001b[1m Trainable params: \u001b[0m\u001b[38;5;34m79,510\u001b[0m (310.59 KB)\n"
            ],
            "text/html": [
              "<pre style=\"white-space:pre;overflow-x:auto;line-height:normal;font-family:Menlo,'DejaVu Sans Mono',consolas,'Courier New',monospace\"><span style=\"font-weight: bold\"> Trainable params: </span><span style=\"color: #00af00; text-decoration-color: #00af00\">79,510</span> (310.59 KB)\n",
              "</pre>\n"
            ]
          },
          "metadata": {}
        },
        {
          "output_type": "display_data",
          "data": {
            "text/plain": [
              "\u001b[1m Non-trainable params: \u001b[0m\u001b[38;5;34m0\u001b[0m (0.00 B)\n"
            ],
            "text/html": [
              "<pre style=\"white-space:pre;overflow-x:auto;line-height:normal;font-family:Menlo,'DejaVu Sans Mono',consolas,'Courier New',monospace\"><span style=\"font-weight: bold\"> Non-trainable params: </span><span style=\"color: #00af00; text-decoration-color: #00af00\">0</span> (0.00 B)\n",
              "</pre>\n"
            ]
          },
          "metadata": {}
        }
      ]
    },
    {
      "cell_type": "code",
      "source": [
        "(train_input, train_target), (test_input, test_target) = keras.datasets.fashion_mnist.load_data()\n",
        "\n",
        "train_scaled = train_input / 255.0\n",
        "\n",
        "train_scaled, val_scaled, train_target, val_target = train_test_split(\n",
        "    train_scaled, train_target, test_size=0.2, random_state=42)"
      ],
      "metadata": {
        "id": "ChhMKBNsAyUG"
      },
      "execution_count": null,
      "outputs": []
    },
    {
      "cell_type": "code",
      "source": [
        "model.compile(loss='sparse_categorical_crossentropy', metrics=['accuracy'])\n",
        "\n",
        "model.fit(train_scaled, train_target, epochs=5)"
      ],
      "metadata": {
        "colab": {
          "base_uri": "https://localhost:8080/"
        },
        "id": "ngqRkkb3A0D5",
        "outputId": "a59bef74-083a-47a0-dbbb-908b1b27ff6c"
      },
      "execution_count": null,
      "outputs": [
        {
          "output_type": "stream",
          "name": "stdout",
          "text": [
            "Epoch 1/5\n",
            "\u001b[1m1500/1500\u001b[0m \u001b[32m━━━━━━━━━━━━━━━━━━━━\u001b[0m\u001b[37m\u001b[0m \u001b[1m5s\u001b[0m 3ms/step - accuracy: 0.7637 - loss: 0.6723\n",
            "Epoch 2/5\n",
            "\u001b[1m1500/1500\u001b[0m \u001b[32m━━━━━━━━━━━━━━━━━━━━\u001b[0m\u001b[37m\u001b[0m \u001b[1m6s\u001b[0m 3ms/step - accuracy: 0.8518 - loss: 0.4052\n",
            "Epoch 3/5\n",
            "\u001b[1m1500/1500\u001b[0m \u001b[32m━━━━━━━━━━━━━━━━━━━━\u001b[0m\u001b[37m\u001b[0m \u001b[1m4s\u001b[0m 3ms/step - accuracy: 0.8695 - loss: 0.3592\n",
            "Epoch 4/5\n",
            "\u001b[1m1500/1500\u001b[0m \u001b[32m━━━━━━━━━━━━━━━━━━━━\u001b[0m\u001b[37m\u001b[0m \u001b[1m6s\u001b[0m 4ms/step - accuracy: 0.8783 - loss: 0.3337\n",
            "Epoch 5/5\n",
            "\u001b[1m1500/1500\u001b[0m \u001b[32m━━━━━━━━━━━━━━━━━━━━\u001b[0m\u001b[37m\u001b[0m \u001b[1m9s\u001b[0m 3ms/step - accuracy: 0.8860 - loss: 0.3170\n"
          ]
        },
        {
          "output_type": "execute_result",
          "data": {
            "text/plain": [
              "<keras.src.callbacks.history.History at 0x7ccb7ddc4250>"
            ]
          },
          "metadata": {},
          "execution_count": 39
        }
      ]
    },
    {
      "cell_type": "code",
      "source": [
        "model.evaluate(val_scaled, val_target)"
      ],
      "metadata": {
        "colab": {
          "base_uri": "https://localhost:8080/"
        },
        "id": "uEtTYjrwA1ew",
        "outputId": "a97ec4f9-e783-4d27-bce4-8b48540bdd2c"
      },
      "execution_count": null,
      "outputs": [
        {
          "output_type": "stream",
          "name": "stdout",
          "text": [
            "\u001b[1m375/375\u001b[0m \u001b[32m━━━━━━━━━━━━━━━━━━━━\u001b[0m\u001b[37m\u001b[0m \u001b[1m1s\u001b[0m 2ms/step - accuracy: 0.8658 - loss: 0.3751\n"
          ]
        },
        {
          "output_type": "execute_result",
          "data": {
            "text/plain": [
              "[0.37969112396240234, 0.8652499914169312]"
            ]
          },
          "metadata": {},
          "execution_count": 40
        }
      ]
    },
    {
      "cell_type": "markdown",
      "source": [
        "## 옵티마이저\n",
        "- 다양한 경사 하강법 알고리즘"
      ],
      "metadata": {
        "id": "BAW4ZyesAYvo"
      }
    },
    {
      "cell_type": "code",
      "source": [
        "model.compile(optimizer='sgd', loss='sparse_categorical_crossentropy', metrics=['accuracy'])"
      ],
      "metadata": {
        "id": "YfT-u4qcEIgb"
      },
      "execution_count": null,
      "outputs": []
    },
    {
      "cell_type": "code",
      "source": [
        "sgd = keras.optimizers.SGD()\n",
        "model.compile(optimizer=sgd, loss='sparse_categorical_crossentropy', metrics=['accuracy'])"
      ],
      "metadata": {
        "id": "jEsFXtzDEKD3"
      },
      "execution_count": null,
      "outputs": []
    },
    {
      "cell_type": "code",
      "source": [
        "sgd = keras.optimizers.SGD(learning_rate=0.1) # 학습률 변경"
      ],
      "metadata": {
        "id": "WREQ0tnIELPC"
      },
      "execution_count": null,
      "outputs": []
    },
    {
      "cell_type": "code",
      "source": [
        "sgd = keras.optimizers.SGD(momentum=0.9, nesterov=True) # 네스테로프 모멘텀(모멘텀 최적화를 2번 반복하여 구현) 최적화 사용, 대부분의 경우 네스테로프 모멘텀 최적화가 기본 확률적 경사 하강법보다 더 나은 성능 제공."
      ],
      "metadata": {
        "id": "_8L9pJdPEMhC"
      },
      "execution_count": null,
      "outputs": []
    },
    {
      "cell_type": "code",
      "source": [
        "adagrad = keras.optimizers.Adagrad() # 옵티마이저 매개변수: Adagrad\n",
        "model.compile(optimizer=adagrad, loss='sparse_categorical_crossentropy', metrics=['accuracy'])"
      ],
      "metadata": {
        "id": "bDR3vPAVENha"
      },
      "execution_count": null,
      "outputs": []
    },
    {
      "cell_type": "code",
      "source": [
        "rmsprop = keras.optimizers.RMSprop() # 옵티마이저 매개변수: RMSprop\n",
        "model.compile(optimizer=rmsprop, loss='sparse_categorical_crossentropy', metrics=['accuracy'])"
      ],
      "metadata": {
        "id": "nfIXgNw3EOlA"
      },
      "execution_count": null,
      "outputs": []
    },
    {
      "cell_type": "code",
      "source": [
        "model = keras.Sequential()\n",
        "model.add(keras.layers.Flatten(input_shape=(28, 28)))\n",
        "model.add(keras.layers.Dense(100, activation='relu'))\n",
        "model.add(keras.layers.Dense(10, activation='softmax'))"
      ],
      "metadata": {
        "id": "JcgaeclfEPyV"
      },
      "execution_count": null,
      "outputs": []
    },
    {
      "cell_type": "code",
      "source": [
        "model.compile(optimizer='adam', loss='sparse_categorical_crossentropy', metrics=['accuracy'])\n",
        "\n",
        "model.fit(train_scaled, train_target, epochs=5)"
      ],
      "metadata": {
        "colab": {
          "base_uri": "https://localhost:8080/"
        },
        "id": "nIfi1S5cEROZ",
        "outputId": "ccd7444c-03f8-467a-a8a5-52770c4b0ec2"
      },
      "execution_count": null,
      "outputs": [
        {
          "output_type": "stream",
          "name": "stdout",
          "text": [
            "Epoch 1/5\n",
            "\u001b[1m1500/1500\u001b[0m \u001b[32m━━━━━━━━━━━━━━━━━━━━\u001b[0m\u001b[37m\u001b[0m \u001b[1m7s\u001b[0m 4ms/step - accuracy: 0.7691 - loss: 0.6706\n",
            "Epoch 2/5\n",
            "\u001b[1m1500/1500\u001b[0m \u001b[32m━━━━━━━━━━━━━━━━━━━━\u001b[0m\u001b[37m\u001b[0m \u001b[1m11s\u001b[0m 5ms/step - accuracy: 0.8521 - loss: 0.4129\n",
            "Epoch 3/5\n",
            "\u001b[1m1500/1500\u001b[0m \u001b[32m━━━━━━━━━━━━━━━━━━━━\u001b[0m\u001b[37m\u001b[0m \u001b[1m5s\u001b[0m 3ms/step - accuracy: 0.8697 - loss: 0.3606\n",
            "Epoch 4/5\n",
            "\u001b[1m1500/1500\u001b[0m \u001b[32m━━━━━━━━━━━━━━━━━━━━\u001b[0m\u001b[37m\u001b[0m \u001b[1m5s\u001b[0m 3ms/step - accuracy: 0.8797 - loss: 0.3301\n",
            "Epoch 5/5\n",
            "\u001b[1m1500/1500\u001b[0m \u001b[32m━━━━━━━━━━━━━━━━━━━━\u001b[0m\u001b[37m\u001b[0m \u001b[1m5s\u001b[0m 4ms/step - accuracy: 0.8872 - loss: 0.3080\n"
          ]
        },
        {
          "output_type": "execute_result",
          "data": {
            "text/plain": [
              "<keras.src.callbacks.history.History at 0x7ccb7dd139d0>"
            ]
          },
          "metadata": {},
          "execution_count": 48
        }
      ]
    },
    {
      "cell_type": "code",
      "source": [
        "model.evaluate(val_scaled, val_target)"
      ],
      "metadata": {
        "colab": {
          "base_uri": "https://localhost:8080/"
        },
        "id": "u8jGcWOtES-z",
        "outputId": "3dfe8b51-8442-49ba-b915-21b634c00256"
      },
      "execution_count": null,
      "outputs": [
        {
          "output_type": "stream",
          "name": "stdout",
          "text": [
            "\u001b[1m375/375\u001b[0m \u001b[32m━━━━━━━━━━━━━━━━━━━━\u001b[0m\u001b[37m\u001b[0m \u001b[1m1s\u001b[0m 2ms/step - accuracy: 0.8770 - loss: 0.3492\n"
          ]
        },
        {
          "output_type": "execute_result",
          "data": {
            "text/plain": [
              "[0.3521900177001953, 0.8723333477973938]"
            ]
          },
          "metadata": {},
          "execution_count": 49
        }
      ]
    },
    {
      "cell_type": "markdown",
      "source": [
        "# 7-3. 신경망 모델 훈련"
      ],
      "metadata": {
        "id": "64o4GDkBFq-1"
      }
    },
    {
      "cell_type": "code",
      "source": [
        "# 실행마다 동일한 결과를 얻기 위해 케라스에 랜덤 시드를 사용하고 텐서플로 연산을 결정적으로 만듭니다.\n",
        "import tensorflow as tf\n",
        "\n",
        "tf.keras.utils.set_random_seed(42)\n",
        "tf.config.experimental.enable_op_determinism()"
      ],
      "metadata": {
        "id": "BzuA6jCELFgv"
      },
      "execution_count": null,
      "outputs": []
    },
    {
      "cell_type": "markdown",
      "source": [
        "> ## 키워드\n",
        "- 드롭아웃: 은닉층에 있는 뉴런의 출력을 랜덤하게 꺼서 과대적합을 막는 기법. 훈련 중에만 적용된다.\n",
        "- 콜백: 케라스 모델 훈련 도중에 어떤 작업을 수행할 수 있도록 도와주는 도구\n",
        "- 조기 종료: 검증 점수가 상승하여 과대적합이 일어나면 훈련을 멈추는 기법\n"
      ],
      "metadata": {
        "id": "zJS-kLrWGG6C"
      }
    },
    {
      "cell_type": "markdown",
      "source": [
        "> ## 핵심 패키지와 함수\n",
        "### TensorFlow\n",
        "- Dropout: 과적합(Overfitting)을 방지하기 위해 신경망의 일부 뉴런을 랜덤하게 비활성화(0으로 만듦)하는 기법\n",
        "  - 첫 번째 매개변수로 드롭아웃 할 비율(r)을 지정. 드롭아웃 하지 않는 뉴런의 출력은 1/(1-r)만큼 증가시켜 출력의 총합이 같도록 조정.\n",
        "- save_weights(): 모든 층의 가중치와 절편을 파일에 저장\n",
        "  - 첫 번째 매개변수에 저장할 파일을 지정\n",
        "  - save_format 매개변수에서 저장할 파일 포맷을 지정\n",
        "- load_weights(): 모든 층의 가중치와 절편을 파일에 읽기\n",
        "  - 첫 번째 매개변수에 저장할 파일을 지정\n",
        "  - save_format 매개변수에서 저장할 파일 포맷을 지정\n",
        "- load_model(): model.save()로 저장된 모델 로드\n",
        "  - 첫 번째 매개변수에 읽을 파일 지정\n",
        "- ModelCheckPoint는 케라스 모델과 가중치를 일정 간격으로 저장\n",
        "  - 첫 번째 매개변수에 저장할 파일을 지정\n",
        "  - monior 매개변수로 모니터링할 지표 지정, 기본값은 'val_loss'로 검증 손실 관찰\n",
        "  - save_weights_only 매개변수의 기본값은 False로 전체 모델 저장. True로 지정하면 모델의 가중치와 절편만 저장\n",
        "  - save_best_only 매개변수를 True로 지정하면 가장 낮은 검증 점수를 만드는 모델 저장\n",
        "- EarlyStopping은 관심 지표가 더 이상 향상하지 않으면 훈련 중지\n",
        "  - monior 매개변수로 모니터링할 지표 지정, 기본값은 'val_loss'로 검증 손실 관찰\n",
        "  - patience 매개변수에 모델이 더 이상 향상되지 않고 지속할 수 있는 최대 에포크 횟수를 지정\n",
        "  - restore_best_weights 매개변수에 최상의 모델 가중치를 복원할지 지정. 기본값은 False.\n",
        "### Numpy\n",
        "- argmax: 배열에서 축을 따라 최댓값의 인덱스를 반환\n",
        "  - axis 매개변수에서 어떤 축을 따라 최댓값을 찾을지 지정. 기본값은 None으로 전체 배열에서 최댓값을 탐색\n"
      ],
      "metadata": {
        "id": "z9LYaS6sGH8J"
      }
    },
    {
      "cell_type": "markdown",
      "source": [
        "## 손실 곡선"
      ],
      "metadata": {
        "id": "34gL93TaLMcP"
      }
    },
    {
      "cell_type": "code",
      "source": [
        "from tensorflow import keras\n",
        "from sklearn.model_selection import train_test_split\n",
        "\n",
        "(train_input, train_target), (test_input, test_target) = \\\n",
        "    keras.datasets.fashion_mnist.load_data()\n",
        "\n",
        "train_scaled = train_input / 255.0\n",
        "\n",
        "train_scaled, val_scaled, train_target, val_target = train_test_split(\n",
        "    train_scaled, train_target, test_size=0.2, random_state=42)"
      ],
      "metadata": {
        "id": "Lvhfg5LcLPal"
      },
      "execution_count": null,
      "outputs": []
    },
    {
      "cell_type": "code",
      "source": [
        "# 모델을 만드는 간단한 함수 정의\n",
        "def model_fn(a_layer=None):\n",
        "    model = keras.Sequential()\n",
        "    model.add(keras.layers.Flatten(input_shape=(28, 28)))\n",
        "    model.add(keras.layers.Dense(100, activation='relu'))\n",
        "    if a_layer:\n",
        "        model.add(a_layer) # model_fn()함수에 a_layer 매개변수로 케라스 층을 추가하면 은닉층 뒤에 또 하나의 층을 추가\n",
        "    model.add(keras.layers.Dense(10, activation='softmax'))\n",
        "    return model"
      ],
      "metadata": {
        "id": "Y4c-MWNBLV4K"
      },
      "execution_count": null,
      "outputs": []
    },
    {
      "cell_type": "code",
      "source": [
        "model = model_fn()\n",
        "\n",
        "model.summary()"
      ],
      "metadata": {
        "colab": {
          "base_uri": "https://localhost:8080/",
          "height": 238
        },
        "id": "D7PZJ9pGLl5o",
        "outputId": "c2f8ec67-cff0-4755-f6eb-817571c6f62d"
      },
      "execution_count": null,
      "outputs": [
        {
          "output_type": "display_data",
          "data": {
            "text/plain": [
              "\u001b[1mModel: \"sequential_5\"\u001b[0m\n"
            ],
            "text/html": [
              "<pre style=\"white-space:pre;overflow-x:auto;line-height:normal;font-family:Menlo,'DejaVu Sans Mono',consolas,'Courier New',monospace\"><span style=\"font-weight: bold\">Model: \"sequential_5\"</span>\n",
              "</pre>\n"
            ]
          },
          "metadata": {}
        },
        {
          "output_type": "display_data",
          "data": {
            "text/plain": [
              "┏━━━━━━━━━━━━━━━━━━━━━━━━━━━━━━━━━━━━━━┳━━━━━━━━━━━━━━━━━━━━━━━━━━━━━┳━━━━━━━━━━━━━━━━━┓\n",
              "┃\u001b[1m \u001b[0m\u001b[1mLayer (type)                        \u001b[0m\u001b[1m \u001b[0m┃\u001b[1m \u001b[0m\u001b[1mOutput Shape               \u001b[0m\u001b[1m \u001b[0m┃\u001b[1m \u001b[0m\u001b[1m        Param #\u001b[0m\u001b[1m \u001b[0m┃\n",
              "┡━━━━━━━━━━━━━━━━━━━━━━━━━━━━━━━━━━━━━━╇━━━━━━━━━━━━━━━━━━━━━━━━━━━━━╇━━━━━━━━━━━━━━━━━┩\n",
              "│ flatten_2 (\u001b[38;5;33mFlatten\u001b[0m)                  │ (\u001b[38;5;45mNone\u001b[0m, \u001b[38;5;34m784\u001b[0m)                 │               \u001b[38;5;34m0\u001b[0m │\n",
              "├──────────────────────────────────────┼─────────────────────────────┼─────────────────┤\n",
              "│ dense_9 (\u001b[38;5;33mDense\u001b[0m)                      │ (\u001b[38;5;45mNone\u001b[0m, \u001b[38;5;34m100\u001b[0m)                 │          \u001b[38;5;34m78,500\u001b[0m │\n",
              "├──────────────────────────────────────┼─────────────────────────────┼─────────────────┤\n",
              "│ dense_10 (\u001b[38;5;33mDense\u001b[0m)                     │ (\u001b[38;5;45mNone\u001b[0m, \u001b[38;5;34m10\u001b[0m)                  │           \u001b[38;5;34m1,010\u001b[0m │\n",
              "└──────────────────────────────────────┴─────────────────────────────┴─────────────────┘\n"
            ],
            "text/html": [
              "<pre style=\"white-space:pre;overflow-x:auto;line-height:normal;font-family:Menlo,'DejaVu Sans Mono',consolas,'Courier New',monospace\">┏━━━━━━━━━━━━━━━━━━━━━━━━━━━━━━━━━━━━━━┳━━━━━━━━━━━━━━━━━━━━━━━━━━━━━┳━━━━━━━━━━━━━━━━━┓\n",
              "┃<span style=\"font-weight: bold\"> Layer (type)                         </span>┃<span style=\"font-weight: bold\"> Output Shape                </span>┃<span style=\"font-weight: bold\">         Param # </span>┃\n",
              "┡━━━━━━━━━━━━━━━━━━━━━━━━━━━━━━━━━━━━━━╇━━━━━━━━━━━━━━━━━━━━━━━━━━━━━╇━━━━━━━━━━━━━━━━━┩\n",
              "│ flatten_2 (<span style=\"color: #0087ff; text-decoration-color: #0087ff\">Flatten</span>)                  │ (<span style=\"color: #00d7ff; text-decoration-color: #00d7ff\">None</span>, <span style=\"color: #00af00; text-decoration-color: #00af00\">784</span>)                 │               <span style=\"color: #00af00; text-decoration-color: #00af00\">0</span> │\n",
              "├──────────────────────────────────────┼─────────────────────────────┼─────────────────┤\n",
              "│ dense_9 (<span style=\"color: #0087ff; text-decoration-color: #0087ff\">Dense</span>)                      │ (<span style=\"color: #00d7ff; text-decoration-color: #00d7ff\">None</span>, <span style=\"color: #00af00; text-decoration-color: #00af00\">100</span>)                 │          <span style=\"color: #00af00; text-decoration-color: #00af00\">78,500</span> │\n",
              "├──────────────────────────────────────┼─────────────────────────────┼─────────────────┤\n",
              "│ dense_10 (<span style=\"color: #0087ff; text-decoration-color: #0087ff\">Dense</span>)                     │ (<span style=\"color: #00d7ff; text-decoration-color: #00d7ff\">None</span>, <span style=\"color: #00af00; text-decoration-color: #00af00\">10</span>)                  │           <span style=\"color: #00af00; text-decoration-color: #00af00\">1,010</span> │\n",
              "└──────────────────────────────────────┴─────────────────────────────┴─────────────────┘\n",
              "</pre>\n"
            ]
          },
          "metadata": {}
        },
        {
          "output_type": "display_data",
          "data": {
            "text/plain": [
              "\u001b[1m Total params: \u001b[0m\u001b[38;5;34m79,510\u001b[0m (310.59 KB)\n"
            ],
            "text/html": [
              "<pre style=\"white-space:pre;overflow-x:auto;line-height:normal;font-family:Menlo,'DejaVu Sans Mono',consolas,'Courier New',monospace\"><span style=\"font-weight: bold\"> Total params: </span><span style=\"color: #00af00; text-decoration-color: #00af00\">79,510</span> (310.59 KB)\n",
              "</pre>\n"
            ]
          },
          "metadata": {}
        },
        {
          "output_type": "display_data",
          "data": {
            "text/plain": [
              "\u001b[1m Trainable params: \u001b[0m\u001b[38;5;34m79,510\u001b[0m (310.59 KB)\n"
            ],
            "text/html": [
              "<pre style=\"white-space:pre;overflow-x:auto;line-height:normal;font-family:Menlo,'DejaVu Sans Mono',consolas,'Courier New',monospace\"><span style=\"font-weight: bold\"> Trainable params: </span><span style=\"color: #00af00; text-decoration-color: #00af00\">79,510</span> (310.59 KB)\n",
              "</pre>\n"
            ]
          },
          "metadata": {}
        },
        {
          "output_type": "display_data",
          "data": {
            "text/plain": [
              "\u001b[1m Non-trainable params: \u001b[0m\u001b[38;5;34m0\u001b[0m (0.00 B)\n"
            ],
            "text/html": [
              "<pre style=\"white-space:pre;overflow-x:auto;line-height:normal;font-family:Menlo,'DejaVu Sans Mono',consolas,'Courier New',monospace\"><span style=\"font-weight: bold\"> Non-trainable params: </span><span style=\"color: #00af00; text-decoration-color: #00af00\">0</span> (0.00 B)\n",
              "</pre>\n"
            ]
          },
          "metadata": {}
        }
      ]
    },
    {
      "cell_type": "code",
      "source": [
        "# 모델 컴파일 (손실 함수 및 평가 지표 설정)\n",
        "model.compile(\n",
        "    loss='sparse_categorical_crossentropy',  # 다중 클래스 분류 문제에서 정수형 라벨을 사용할 때 적합한 손실 함수\n",
        "    metrics=['accuracy']  # 모델의 성능을 평가할 지표로 정확도(accuracy)를 사용\n",
        ")\n",
        "\n",
        "# 모델 학습 (훈련 데이터로 신경망 학습 진행)\n",
        "history = model.fit(\n",
        "    train_scaled,      # 입력 데이터 (전처리된 훈련 데이터)\n",
        "    train_target,      # 정답 라벨 (정수형 클래스 값)\n",
        "    epochs=5,          # 총 5번(에포크) 동안 데이터셋을 반복 학습\n",
        "    verbose=0          # 학습 과정 출력 설정 (0: 출력 없음, 1: 상세 출력, 2: 간략 출력)\n",
        ")"
      ],
      "metadata": {
        "id": "E6_Z-NFELqwK"
      },
      "execution_count": null,
      "outputs": []
    },
    {
      "cell_type": "code",
      "source": [
        "# 훈련 측정값이 담겨 있는 history 딕셔너리 출력\n",
        "print(history.history.keys())"
      ],
      "metadata": {
        "colab": {
          "base_uri": "https://localhost:8080/"
        },
        "id": "Ddbbr9kGL7Wh",
        "outputId": "6e945374-f029-48de-ad03-2772bda9da5c"
      },
      "execution_count": null,
      "outputs": [
        {
          "output_type": "stream",
          "name": "stdout",
          "text": [
            "dict_keys(['accuracy', 'loss'])\n"
          ]
        }
      ]
    },
    {
      "cell_type": "code",
      "source": [
        "import matplotlib.pyplot as plt\n",
        "\n",
        "plt.plot(history.history['loss'])\n",
        "plt.xlabel('epoch')\n",
        "plt.ylabel('loss')\n",
        "plt.show()"
      ],
      "metadata": {
        "colab": {
          "base_uri": "https://localhost:8080/",
          "height": 449
        },
        "id": "uIpOOtAnMJtb",
        "outputId": "ec9c24da-9e18-4c3f-d4ff-374cd439f286"
      },
      "execution_count": null,
      "outputs": [
        {
          "output_type": "display_data",
          "data": {
            "text/plain": [
              "<Figure size 640x480 with 1 Axes>"
            ],
            "image/png": "[encoded data removed]"
          },
          "metadata": {}
        }
      ]
    },
    {
      "cell_type": "code",
      "source": [
        "plt.plot(history.history['accuracy'])\n",
        "plt.xlabel('epoch')\n",
        "plt.ylabel('accuracy')\n",
        "plt.show()"
      ],
      "metadata": {
        "colab": {
          "base_uri": "https://localhost:8080/",
          "height": 452
        },
        "id": "DFTqY5zcMLea",
        "outputId": "f79553db-7a76-452d-cdc2-c08ef6bff7a3"
      },
      "execution_count": null,
      "outputs": [
        {
          "output_type": "display_data",
          "data": {
            "text/plain": [
              "<Figure size 640x480 with 1 Axes>"
            ],
            "image/png": "[encoded data removed]"
          },
          "metadata": {}
        }
      ]
    },
    {
      "cell_type": "code",
      "source": [
        "model = model_fn()\n",
        "model.compile(loss='sparse_categorical_crossentropy', metrics=['accuracy'])\n",
        "\n",
        "history = model.fit(train_scaled, train_target, epochs=20, verbose=0)"
      ],
      "metadata": {
        "id": "lQovhMpkMLSq"
      },
      "execution_count": null,
      "outputs": []
    },
    {
      "cell_type": "code",
      "source": [
        "plt.plot(history.history['loss'])\n",
        "plt.xlabel('epoch')\n",
        "plt.ylabel('loss')\n",
        "plt.show()"
      ],
      "metadata": {
        "colab": {
          "base_uri": "https://localhost:8080/",
          "height": 451
        },
        "id": "7A2aF7XDMOyX",
        "outputId": "9cfc5ab2-ff5f-4c2c-ef4a-47a3b6f6be7c"
      },
      "execution_count": null,
      "outputs": [
        {
          "output_type": "display_data",
          "data": {
            "text/plain": [
              "<Figure size 640x480 with 1 Axes>"
            ],
            "image/png": "[encoded data removed]"
          },
          "metadata": {}
        }
      ]
    },
    {
      "cell_type": "markdown",
      "source": [
        "## 검증 손실"
      ],
      "metadata": {
        "id": "0MdyBdrDMQLK"
      }
    },
    {
      "cell_type": "code",
      "source": [
        "model = model_fn()\n",
        "model.compile(loss='sparse_categorical_crossentropy', metrics=['accuracy'])\n",
        "\n",
        "history = model.fit(train_scaled, train_target, epochs=20, verbose=0,\n",
        "                    validation_data=(val_scaled, val_target))"
      ],
      "metadata": {
        "id": "T9Fyj5v-MRV8"
      },
      "execution_count": null,
      "outputs": []
    },
    {
      "cell_type": "code",
      "source": [
        "print(history.history.keys())"
      ],
      "metadata": {
        "colab": {
          "base_uri": "https://localhost:8080/"
        },
        "id": "Svy1cD2cMTNS",
        "outputId": "5ed52a70-edd6-4bd2-8523-77e6f3e7289f"
      },
      "execution_count": null,
      "outputs": [
        {
          "output_type": "stream",
          "name": "stdout",
          "text": [
            "dict_keys(['accuracy', 'loss', 'val_accuracy', 'val_loss'])\n"
          ]
        }
      ]
    },
    {
      "cell_type": "code",
      "source": [
        "plt.plot(history.history['loss'])\n",
        "plt.plot(history.history['val_loss'])\n",
        "plt.xlabel('epoch')\n",
        "plt.ylabel('loss')\n",
        "plt.legend(['train', 'val'])\n",
        "plt.show()"
      ],
      "metadata": {
        "colab": {
          "base_uri": "https://localhost:8080/",
          "height": 453
        },
        "id": "wD59DD5WMYiF",
        "outputId": "d1a430bd-af27-45de-bb19-998efb5eee46"
      },
      "execution_count": null,
      "outputs": [
        {
          "output_type": "display_data",
          "data": {
            "text/plain": [
              "<Figure size 640x480 with 1 Axes>"
            ],
            "image/png": "[encoded data removed]"
          },
          "metadata": {}
        }
      ]
    },
    {
      "cell_type": "code",
      "source": [
        "# 모델 생성 (model_fn 함수에서 정의된 모델 불러오기)\n",
        "model = model_fn()\n",
        "\n",
        "# 모델 컴파일 (손실 함수 및 평가 지표 설정)\n",
        "model.compile(\n",
        "    loss='sparse_categorical_crossentropy',  # 다중 클래스 분류 문제에서 정수형 라벨을 사용할 때 적합한 손실 함수\n",
        "    metrics=['accuracy']  # 모델의 성능을 평가할 지표로 정확도(accuracy)를 사용\n",
        ")\n",
        "\n",
        "# 모델 학습 (훈련 데이터와 검증 데이터로 신경망 학습 진행)\n",
        "history = model.fit(\n",
        "    train_scaled,      # 입력 데이터 (전처리된 훈련 데이터)\n",
        "    train_target,      # 정답 라벨 (정수형 클래스 값)\n",
        "    epochs=20,         # 총 20번(에포크) 동안 데이터셋을 반복 학습\n",
        "    verbose=0,         # 학습 과정 출력 설정 (0: 출력 없음, 1: 상세 출력, 2: 간략 출력)\n",
        "    validation_data=(val_scaled, val_target)  # 검증 데이터 (훈련 중 과적합 여부 평가)\n",
        ")\n"
      ],
      "metadata": {
        "id": "K7tvM-lCMZp6"
      },
      "execution_count": null,
      "outputs": []
    },
    {
      "cell_type": "code",
      "source": [
        "plt.plot(history.history['loss'])\n",
        "plt.plot(history.history['val_loss'])\n",
        "plt.xlabel('epoch')\n",
        "plt.ylabel('loss')\n",
        "plt.legend(['train', 'val'])\n",
        "plt.show()"
      ],
      "metadata": {
        "colab": {
          "base_uri": "https://localhost:8080/",
          "height": 449
        },
        "id": "8NPNif3qMa3G",
        "outputId": "a7df60ae-ff06-4ad0-f41b-50530302ec01"
      },
      "execution_count": null,
      "outputs": [
        {
          "output_type": "display_data",
          "data": {
            "text/plain": [
              "<Figure size 640x480 with 1 Axes>"
            ],
            "image/png": "[encoded data removed]"
          },
          "metadata": {}
        }
      ]
    },
    {
      "cell_type": "markdown",
      "source": [
        "## 드롭아웃"
      ],
      "metadata": {
        "id": "gWIbM2BiMcAp"
      }
    },
    {
      "cell_type": "code",
      "source": [
        "model = model_fn(keras.layers.Dropout(0.3))\n",
        "\n",
        "model.summary()"
      ],
      "metadata": {
        "colab": {
          "base_uri": "https://localhost:8080/",
          "height": 272
        },
        "id": "J2oSo0XOMdzP",
        "outputId": "fa45d28f-e71e-43e7-fec7-6308b48faa3c"
      },
      "execution_count": null,
      "outputs": [
        {
          "output_type": "display_data",
          "data": {
            "text/plain": [
              "\u001b[1mModel: \"sequential_9\"\u001b[0m\n"
            ],
            "text/html": [
              "<pre style=\"white-space:pre;overflow-x:auto;line-height:normal;font-family:Menlo,'DejaVu Sans Mono',consolas,'Courier New',monospace\"><span style=\"font-weight: bold\">Model: \"sequential_9\"</span>\n",
              "</pre>\n"
            ]
          },
          "metadata": {}
        },
        {
          "output_type": "display_data",
          "data": {
            "text/plain": [
              "┏━━━━━━━━━━━━━━━━━━━━━━━━━━━━━━━━━━━━━━┳━━━━━━━━━━━━━━━━━━━━━━━━━━━━━┳━━━━━━━━━━━━━━━━━┓\n",
              "┃\u001b[1m \u001b[0m\u001b[1mLayer (type)                        \u001b[0m\u001b[1m \u001b[0m┃\u001b[1m \u001b[0m\u001b[1mOutput Shape               \u001b[0m\u001b[1m \u001b[0m┃\u001b[1m \u001b[0m\u001b[1m        Param #\u001b[0m\u001b[1m \u001b[0m┃\n",
              "┡━━━━━━━━━━━━━━━━━━━━━━━━━━━━━━━━━━━━━━╇━━━━━━━━━━━━━━━━━━━━━━━━━━━━━╇━━━━━━━━━━━━━━━━━┩\n",
              "│ flatten_6 (\u001b[38;5;33mFlatten\u001b[0m)                  │ (\u001b[38;5;45mNone\u001b[0m, \u001b[38;5;34m784\u001b[0m)                 │               \u001b[38;5;34m0\u001b[0m │\n",
              "├──────────────────────────────────────┼─────────────────────────────┼─────────────────┤\n",
              "│ dense_17 (\u001b[38;5;33mDense\u001b[0m)                     │ (\u001b[38;5;45mNone\u001b[0m, \u001b[38;5;34m100\u001b[0m)                 │          \u001b[38;5;34m78,500\u001b[0m │\n",
              "├──────────────────────────────────────┼─────────────────────────────┼─────────────────┤\n",
              "│ dropout (\u001b[38;5;33mDropout\u001b[0m)                    │ (\u001b[38;5;45mNone\u001b[0m, \u001b[38;5;34m100\u001b[0m)                 │               \u001b[38;5;34m0\u001b[0m │\n",
              "├──────────────────────────────────────┼─────────────────────────────┼─────────────────┤\n",
              "│ dense_18 (\u001b[38;5;33mDense\u001b[0m)                     │ (\u001b[38;5;45mNone\u001b[0m, \u001b[38;5;34m10\u001b[0m)                  │           \u001b[38;5;34m1,010\u001b[0m │\n",
              "└──────────────────────────────────────┴─────────────────────────────┴─────────────────┘\n"
            ],
            "text/html": [
              "<pre style=\"white-space:pre;overflow-x:auto;line-height:normal;font-family:Menlo,'DejaVu Sans Mono',consolas,'Courier New',monospace\">┏━━━━━━━━━━━━━━━━━━━━━━━━━━━━━━━━━━━━━━┳━━━━━━━━━━━━━━━━━━━━━━━━━━━━━┳━━━━━━━━━━━━━━━━━┓\n",
              "┃<span style=\"font-weight: bold\"> Layer (type)                         </span>┃<span style=\"font-weight: bold\"> Output Shape                </span>┃<span style=\"font-weight: bold\">         Param # </span>┃\n",
              "┡━━━━━━━━━━━━━━━━━━━━━━━━━━━━━━━━━━━━━━╇━━━━━━━━━━━━━━━━━━━━━━━━━━━━━╇━━━━━━━━━━━━━━━━━┩\n",
              "│ flatten_6 (<span style=\"color: #0087ff; text-decoration-color: #0087ff\">Flatten</span>)                  │ (<span style=\"color: #00d7ff; text-decoration-color: #00d7ff\">None</span>, <span style=\"color: #00af00; text-decoration-color: #00af00\">784</span>)                 │               <span style=\"color: #00af00; text-decoration-color: #00af00\">0</span> │\n",
              "├──────────────────────────────────────┼─────────────────────────────┼─────────────────┤\n",
              "│ dense_17 (<span style=\"color: #0087ff; text-decoration-color: #0087ff\">Dense</span>)                     │ (<span style=\"color: #00d7ff; text-decoration-color: #00d7ff\">None</span>, <span style=\"color: #00af00; text-decoration-color: #00af00\">100</span>)                 │          <span style=\"color: #00af00; text-decoration-color: #00af00\">78,500</span> │\n",
              "├──────────────────────────────────────┼─────────────────────────────┼─────────────────┤\n",
              "│ dropout (<span style=\"color: #0087ff; text-decoration-color: #0087ff\">Dropout</span>)                    │ (<span style=\"color: #00d7ff; text-decoration-color: #00d7ff\">None</span>, <span style=\"color: #00af00; text-decoration-color: #00af00\">100</span>)                 │               <span style=\"color: #00af00; text-decoration-color: #00af00\">0</span> │\n",
              "├──────────────────────────────────────┼─────────────────────────────┼─────────────────┤\n",
              "│ dense_18 (<span style=\"color: #0087ff; text-decoration-color: #0087ff\">Dense</span>)                     │ (<span style=\"color: #00d7ff; text-decoration-color: #00d7ff\">None</span>, <span style=\"color: #00af00; text-decoration-color: #00af00\">10</span>)                  │           <span style=\"color: #00af00; text-decoration-color: #00af00\">1,010</span> │\n",
              "└──────────────────────────────────────┴─────────────────────────────┴─────────────────┘\n",
              "</pre>\n"
            ]
          },
          "metadata": {}
        },
        {
          "output_type": "display_data",
          "data": {
            "text/plain": [
              "\u001b[1m Total params: \u001b[0m\u001b[38;5;34m79,510\u001b[0m (310.59 KB)\n"
            ],
            "text/html": [
              "<pre style=\"white-space:pre;overflow-x:auto;line-height:normal;font-family:Menlo,'DejaVu Sans Mono',consolas,'Courier New',monospace\"><span style=\"font-weight: bold\"> Total params: </span><span style=\"color: #00af00; text-decoration-color: #00af00\">79,510</span> (310.59 KB)\n",
              "</pre>\n"
            ]
          },
          "metadata": {}
        },
        {
          "output_type": "display_data",
          "data": {
            "text/plain": [
              "\u001b[1m Trainable params: \u001b[0m\u001b[38;5;34m79,510\u001b[0m (310.59 KB)\n"
            ],
            "text/html": [
              "<pre style=\"white-space:pre;overflow-x:auto;line-height:normal;font-family:Menlo,'DejaVu Sans Mono',consolas,'Courier New',monospace\"><span style=\"font-weight: bold\"> Trainable params: </span><span style=\"color: #00af00; text-decoration-color: #00af00\">79,510</span> (310.59 KB)\n",
              "</pre>\n"
            ]
          },
          "metadata": {}
        },
        {
          "output_type": "display_data",
          "data": {
            "text/plain": [
              "\u001b[1m Non-trainable params: \u001b[0m\u001b[38;5;34m0\u001b[0m (0.00 B)\n"
            ],
            "text/html": [
              "<pre style=\"white-space:pre;overflow-x:auto;line-height:normal;font-family:Menlo,'DejaVu Sans Mono',consolas,'Courier New',monospace\"><span style=\"font-weight: bold\"> Non-trainable params: </span><span style=\"color: #00af00; text-decoration-color: #00af00\">0</span> (0.00 B)\n",
              "</pre>\n"
            ]
          },
          "metadata": {}
        }
      ]
    },
    {
      "cell_type": "code",
      "source": [
        "model.compile(optimizer='adam', loss='sparse_categorical_crossentropy',\n",
        "              metrics=['accuracy'])\n",
        "\n",
        "history = model.fit(train_scaled, train_target, epochs=20, verbose=0,\n",
        "                    validation_data=(val_scaled, val_target))"
      ],
      "metadata": {
        "id": "i0Far3BFMe6L"
      },
      "execution_count": null,
      "outputs": []
    },
    {
      "cell_type": "code",
      "source": [
        "plt.plot(history.history['loss'])\n",
        "plt.plot(history.history['val_loss'])\n",
        "plt.xlabel('epoch')\n",
        "plt.ylabel('loss')\n",
        "plt.legend(['train', 'val'])\n",
        "plt.show()"
      ],
      "metadata": {
        "colab": {
          "base_uri": "https://localhost:8080/",
          "height": 449
        },
        "id": "APvAPmoGMf-E",
        "outputId": "ad8e0784-5b09-47dc-b8eb-5c49cf1c1040"
      },
      "execution_count": null,
      "outputs": [
        {
          "output_type": "display_data",
          "data": {
            "text/plain": [
              "<Figure size 640x480 with 1 Axes>"
            ],
            "image/png": "[encoded data removed]"
          },
          "metadata": {}
        }
      ]
    },
    {
      "cell_type": "markdown",
      "source": [
        "## 모델 저장과 복원"
      ],
      "metadata": {
        "id": "c6J25Yk4Mijy"
      }
    },
    {
      "cell_type": "code",
      "source": [
        "model = model_fn(keras.layers.Dropout(0.3))\n",
        "model.compile(optimizer='adam', loss='sparse_categorical_crossentropy',\n",
        "              metrics=['accuracy'])\n",
        "\n",
        "history = model.fit(train_scaled, train_target, epochs=10, verbose=0,\n",
        "                    validation_data=(val_scaled, val_target))"
      ],
      "metadata": {
        "id": "e79vCzAjMxQr"
      },
      "execution_count": null,
      "outputs": []
    },
    {
      "cell_type": "code",
      "source": [
        "model.save('model-whole.keras')"
      ],
      "metadata": {
        "id": "twmeTKhYMyrB"
      },
      "execution_count": null,
      "outputs": []
    },
    {
      "cell_type": "code",
      "source": [
        "model.save_weights('model.weights.h5')"
      ],
      "metadata": {
        "id": "FQ1TZQndMzwq"
      },
      "execution_count": null,
      "outputs": []
    },
    {
      "cell_type": "code",
      "source": [
        "!ls -al model*"
      ],
      "metadata": {
        "colab": {
          "base_uri": "https://localhost:8080/"
        },
        "id": "EvoLdrbMM09n",
        "outputId": "eea234cc-3efd-4719-9ba1-98bac58037a2"
      },
      "execution_count": null,
      "outputs": [
        {
          "output_type": "stream",
          "name": "stdout",
          "text": [
            "-rw-r--r-- 1 root root 976600 Feb 14 16:30 model.weights.h5\n",
            "-rw-r--r-- 1 root root 979393 Feb 14 16:30 model-whole.keras\n"
          ]
        }
      ]
    },
    {
      "cell_type": "code",
      "source": [
        "model = model_fn(keras.layers.Dropout(0.3))\n",
        "\n",
        "model.load_weights('model.weights.h5')"
      ],
      "metadata": {
        "id": "ceXQd_hdM2Bc"
      },
      "execution_count": null,
      "outputs": []
    },
    {
      "cell_type": "code",
      "source": [
        "import numpy as np\n",
        "\n",
        "val_labels = np.argmax(model.predict(val_scaled), axis=-1)\n",
        "print(np.mean(val_labels == val_target))"
      ],
      "metadata": {
        "colab": {
          "base_uri": "https://localhost:8080/"
        },
        "id": "_9ai-obWM3HV",
        "outputId": "48736c42-5753-434b-fb28-561d06020c78"
      },
      "execution_count": null,
      "outputs": [
        {
          "output_type": "stream",
          "name": "stdout",
          "text": [
            "\u001b[1m375/375\u001b[0m \u001b[32m━━━━━━━━━━━━━━━━━━━━\u001b[0m\u001b[37m\u001b[0m \u001b[1m1s\u001b[0m 1ms/step\n",
            "0.8810833333333333\n"
          ]
        }
      ]
    },
    {
      "cell_type": "code",
      "source": [
        "model = keras.models.load_model('model-whole.keras')\n",
        "\n",
        "model.evaluate(val_scaled, val_target)"
      ],
      "metadata": {
        "colab": {
          "base_uri": "https://localhost:8080/"
        },
        "id": "pVbahQ1wM4X2",
        "outputId": "409e6174-455d-40d7-ebed-d4ff90007cac"
      },
      "execution_count": null,
      "outputs": [
        {
          "output_type": "stream",
          "name": "stdout",
          "text": [
            "\u001b[1m375/375\u001b[0m \u001b[32m━━━━━━━━━━━━━━━━━━━━\u001b[0m\u001b[37m\u001b[0m \u001b[1m1s\u001b[0m 2ms/step - accuracy: 0.8827 - loss: 0.3282\n"
          ]
        },
        {
          "output_type": "execute_result",
          "data": {
            "text/plain": [
              "[0.3353292942047119, 0.8810833096504211]"
            ]
          },
          "metadata": {},
          "execution_count": 74
        }
      ]
    },
    {
      "cell_type": "markdown",
      "source": [
        "## 콜백\n",
        "- 훈련 과정 중에 어떤 작업(조기 종료(Early Stopping), 모델 저장, 학습률 조정 등)을 수행할 수 있게 하는 객체"
      ],
      "metadata": {
        "id": "fLnLkU0zM5mz"
      }
    },
    {
      "cell_type": "markdown",
      "source": [
        "### **📌사용하는 이유**\n",
        "1. 훈련 과정 자동 제어\n",
        "- 모델이 최적의 상태를 유지하도록 학습 과정 중간에 개입 가능.\n",
        "2. 과적합 방지\n",
        "- 검증 성능이 떨어지면 학습을 자동으로 멈추거나(Early Stopping), 최적 모델을 저장.\n",
        "3. 학습 속도 개선\n",
        "- 학습률(Learning Rate)을 동적으로 조정하여 더 빠르게 최적점에 도달 가능.\n",
        "4. 로그 기록 및 모니터링\n",
        "- 학습 과정 데이터를 저장하여 나중에 분석 가능.\n",
        "\n",
        "### **📌 주요 콜백 종류 및 역할**\n",
        "\n",
        "| 콜백 이름 | 역할 |\n",
        "|-----------|-----------------------------------------------------------|\n",
        "| **EarlyStopping** | 일정 에포크 동안 검증 성능이 개선되지 않으면 학습 중단 |\n",
        "| **ModelCheckpoint** | 최적 모델을 자동으로 저장 |\n",
        "| **ReduceLROnPlateau** | 검증 손실이 개선되지 않으면 학습률 감소 |\n",
        "| **LearningRateScheduler** | 학습률을 특정 스케줄에 따라 조정 |\n",
        "| **TensorBoard** | 학습 과정을 시각적으로 모니터링 |\n",
        "| **CSVLogger** | 학습 과정을 CSV 파일로 저장 |\n",
        "\n",
        "- 여러 개 동시에 사용 가능\n"
      ],
      "metadata": {
        "id": "xpAKsZTtM8fJ"
      }
    },
    {
      "cell_type": "code",
      "source": [
        "# Dropout을 적용한 모델을 Adam 옵티마이저로 학습하고, 검증 성능이 가장 좋은 모델을 자동 저장\n",
        "\n",
        "# 모델 생성 (Dropout 레이어 추가) - model_fn 함수에서 모델을 정의하는 것으로 가정\n",
        "model = model_fn(keras.layers.Dropout(0.3))  # 드롭아웃 비율 30% 적용\n",
        "\n",
        "# 모델 컴파일 (최적화 알고리즘, 손실 함수, 평가 지표 설정)\n",
        "model.compile(\n",
        "    optimizer='adam',  # Adam 최적화 알고리즘 사용 (적응형 학습률 조정)\n",
        "    loss='sparse_categorical_crossentropy',  # 정수형 클래스 라벨을 위한 다중 클래스 분류 손실 함수\n",
        "    metrics=['accuracy']  # 모델 평가 지표로 정확도(Accuracy) 사용\n",
        ")\n",
        "\n",
        "# 콜백 설정: 최적 모델 자동 저장\n",
        "checkpoint_cb = keras.callbacks.ModelCheckpoint(\n",
        "    'best-model.keras',  # 최적 모델이 저장될 파일 경로\n",
        "    save_best_only=True  # 검증 성능이 가장 좋은 모델만 저장\n",
        ")\n",
        "\n",
        "# 모델 학습 (훈련 데이터와 검증 데이터로 학습 진행)\n",
        "history = model.fit(\n",
        "    train_scaled,        # 입력 데이터 (전처리된 훈련 데이터)\n",
        "    train_target,        # 정답 라벨 (정수형 클래스 값)\n",
        "    epochs=20,           # 총 20번(에포크) 동안 데이터셋을 반복 학습\n",
        "    verbose=0,           # 학습 과정 출력 설정 (0: 출력 없음, 1: 상세 출력, 2: 간략 출력)\n",
        "    validation_data=(val_scaled, val_target),  # 검증 데이터 (훈련 중 과적합 여부 평가)\n",
        "    callbacks=[checkpoint_cb]  # 최적 모델 자동 저장 콜백 적용\n",
        ")\n"
      ],
      "metadata": {
        "id": "SljBJatVM78j"
      },
      "execution_count": null,
      "outputs": []
    },
    {
      "cell_type": "code",
      "source": [
        "model = keras.models.load_model('best-model.keras')\n",
        "\n",
        "model.evaluate(val_scaled, val_target)"
      ],
      "metadata": {
        "colab": {
          "base_uri": "https://localhost:8080/"
        },
        "id": "-p9xwgNsN28O",
        "outputId": "a16b46a7-52ff-49ae-ff6a-9b207855cc61"
      },
      "execution_count": null,
      "outputs": [
        {
          "output_type": "stream",
          "name": "stdout",
          "text": [
            "\u001b[1m375/375\u001b[0m \u001b[32m━━━━━━━━━━━━━━━━━━━━\u001b[0m\u001b[37m\u001b[0m \u001b[1m1s\u001b[0m 2ms/step - accuracy: 0.8855 - loss: 0.3178\n"
          ]
        },
        {
          "output_type": "execute_result",
          "data": {
            "text/plain": [
              "[0.32222074270248413, 0.8847500085830688]"
            ]
          },
          "metadata": {},
          "execution_count": 76
        }
      ]
    },
    {
      "cell_type": "code",
      "source": [
        "# Dropout을 적용한 모델을 Adam 옵티마이저로 학습하고, 최적 모델을 저장하며, 성능이 향상되지 않으면 조기 종료\n",
        "\n",
        "# 모델 생성 (Dropout 레이어 추가) - model_fn 함수에서 모델을 정의하는 것으로 가정\n",
        "model = model_fn(keras.layers.Dropout(0.3))  # 드롭아웃 비율 30% 적용 (과적합 방지)\n",
        "\n",
        "# 모델 컴파일 (최적화 알고리즘, 손실 함수, 평가 지표 설정)\n",
        "model.compile(\n",
        "    optimizer='adam',  # Adam 최적화 알고리즘 사용 (적응형 학습률 조정)\n",
        "    loss='sparse_categorical_crossentropy',  # 정수형 클래스 라벨을 위한 다중 클래스 분류 손실 함수\n",
        "    metrics=['accuracy']  # 모델 평가 지표로 정확도(Accuracy) 사용\n",
        ")\n",
        "\n",
        "# 콜백 설정 1: 최적 모델 자동 저장 (검증 성능이 가장 좋은 모델을 저장)\n",
        "checkpoint_cb = keras.callbacks.ModelCheckpoint(\n",
        "    'best-model.keras',  # 최적 모델이 저장될 파일 경로\n",
        "    save_best_only=True  # 검증 성능이 개선될 때만 저장\n",
        ")\n",
        "\n",
        "# 콜백 설정 2: 조기 종료 (Early Stopping)\n",
        "early_stopping_cb = keras.callbacks.EarlyStopping(\n",
        "    patience=2,  # 검증 성능이 2번 연속 개선되지 않으면 학습 조기 종료\n",
        "    restore_best_weights=True  # 가장 좋은 가중치를 복원하여 최적의 모델 유지\n",
        ")\n",
        "\n",
        "# 모델 학습 (훈련 데이터와 검증 데이터로 학습 진행)\n",
        "history = model.fit(\n",
        "    train_scaled,        # 입력 데이터 (전처리된 훈련 데이터)\n",
        "    train_target,        # 정답 라벨 (정수형 클래스 값)\n",
        "    epochs=20,           # 총 20번(에포크) 동안 데이터셋을 반복 학습\n",
        "    verbose=0,           # 학습 과정 출력 설정 (0: 출력 없음, 1: 상세 출력, 2: 간략 출력)\n",
        "    validation_data=(val_scaled, val_target),  # 검증 데이터 (훈련 중 과적합 여부 평가)\n",
        "    callbacks=[checkpoint_cb, early_stopping_cb]  # 최적 모델 저장 및 조기 종료 콜백 적용\n",
        ")\n"
      ],
      "metadata": {
        "id": "NjmlfFyhN4EE"
      },
      "execution_count": null,
      "outputs": []
    },
    {
      "cell_type": "code",
      "source": [
        "# 몇 번째 에포크에서 훈련이 중지되었는지 확인\n",
        "print(early_stopping_cb.stopped_epoch)"
      ],
      "metadata": {
        "colab": {
          "base_uri": "https://localhost:8080/"
        },
        "id": "UB6HJ9z6OG6V",
        "outputId": "e8f38e5f-f177-40da-b009-f7b52cb5fb27"
      },
      "execution_count": null,
      "outputs": [
        {
          "output_type": "stream",
          "name": "stdout",
          "text": [
            "12\n"
          ]
        }
      ]
    },
    {
      "cell_type": "code",
      "source": [
        "plt.plot(history.history['loss'])\n",
        "plt.plot(history.history['val_loss'])\n",
        "plt.xlabel('epoch')\n",
        "plt.ylabel('loss')\n",
        "plt.legend(['train', 'val'])\n",
        "plt.show()"
      ],
      "metadata": {
        "colab": {
          "base_uri": "https://localhost:8080/",
          "height": 449
        },
        "id": "l9S_2Z8hOIvf",
        "outputId": "6ca64a10-09b6-4982-fa7f-306157175cb4"
      },
      "execution_count": null,
      "outputs": [
        {
          "output_type": "display_data",
          "data": {
            "text/plain": [
              "<Figure size 640x480 with 1 Axes>"
            ],
            "image/png": "[encoded data removed]"
          },
          "metadata": {}
        }
      ]
    },
    {
      "cell_type": "code",
      "source": [
        "model.evaluate(val_scaled, val_target)"
      ],
      "metadata": {
        "colab": {
          "base_uri": "https://localhost:8080/"
        },
        "id": "nX6Bw4n5OLto",
        "outputId": "7ec8718c-f267-44cd-8200-b54dbd948e95"
      },
      "execution_count": null,
      "outputs": [
        {
          "output_type": "stream",
          "name": "stdout",
          "text": [
            "\u001b[1m375/375\u001b[0m \u001b[32m━━━━━━━━━━━━━━━━━━━━\u001b[0m\u001b[37m\u001b[0m \u001b[1m1s\u001b[0m 2ms/step - accuracy: 0.8858 - loss: 0.3188\n"
          ]
        },
        {
          "output_type": "execute_result",
          "data": {
            "text/plain": [
              "[0.3233264982700348, 0.8853333592414856]"
            ]
          },
          "metadata": {},
          "execution_count": 80
        }
      ]
    }
  ]
}